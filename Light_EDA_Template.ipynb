{
 "cells": [
  {
   "cell_type": "markdown",
   "id": "9b42f393-2f96-4901-a024-a4c483e52f69",
   "metadata": {},
   "source": [
    "IMDB Dataset\n",
    "For the illustration purpose, we will pick the IMDB dataset for the top 1000 movies to understand the features/traits of top IMDB movies by applying the 10 steps process. Let’s start with the process :"
   ]
  },
  {
   "cell_type": "markdown",
   "id": "3bc61a45-cec5-44a7-b041-8163886fd637",
   "metadata": {},
   "source": [
    "# 1. Summary\n",
    "The first step is to get the summary of columns present in the dataset, but before that, we will import the packages and read our IMDB dataset.\n",
    "\n",
    "The summary helps us to understand the data by showing the statistics (count, number of unique values, top, mean, etc) for the columns as shown below :"
   ]
  },
  {
   "cell_type": "code",
   "execution_count": null,
   "id": "33cb75ea-c6d4-46bb-bfd4-a513cea30b32",
   "metadata": {},
   "outputs": [],
   "source": [
    "# import our packages \n",
    "import pandas as pd \n",
    "import matplotlib.pyplot as plt\n",
    "\n",
    "# reading the data\n",
    "df_movies =  pd.read_csv('https://raw.githubusercontent.com/peetck/IMDB-Top1000-Movies/master/IMDB-Movie-Data.csv')\n",
    "\n",
    "# summary of the columns   \n",
    "df_movies.describe(include = 'all')"
   ]
  },
  {
   "cell_type": "markdown",
   "id": "c025d366-28cb-4dd1-8a2c-7da76d8573f6",
   "metadata": {},
   "source": [
    "Insights :\n",
    "\n",
    "Drishyam occurs twice in the top 1000 IMDB movies (One of the movies is in Malayalam and another is in Hindi).\n",
    "Most of the movies(32) are from 2014.\n",
    "The drama genre has most(85) movies.\n",
    "Alfred Hitchcock has most(14) movies in the top 1000.\n",
    "We can also see the distribution(min,25%,50%…etc) of IMDB ratings across these movies."
   ]
  },
  {
   "cell_type": "markdown",
   "id": "fe5be3bd-3992-4ec4-8230-0bf371732de1",
   "metadata": {},
   "source": [
    "# 2. Data Types\n",
    "Step 2 is to do a sanity check of the data types of the columns of the dataframe. If we find some incorrect data types then we will correct them in this step."
   ]
  },
  {
   "cell_type": "code",
   "execution_count": null,
   "id": "18b6443d-89f4-4170-9f5e-31f54ec1459a",
   "metadata": {},
   "outputs": [],
   "source": [
    "# check the datatypes \n",
    "print(df_movies.dtypes)"
   ]
  },
  {
   "cell_type": "markdown",
   "id": "15f5418c-e64d-43d8-af5f-38b258c99fc2",
   "metadata": {},
   "source": [
    "Fix any \"wrong\" data types"
   ]
  },
  {
   "cell_type": "code",
   "execution_count": null,
   "id": "cbc50a31-41ef-49c8-9958-a9fa30b5a5a9",
   "metadata": {},
   "outputs": [],
   "source": [
    "# convert release year into int\n",
    "# df_movies.loc[df_movies.Released_Year == 'PG','Released_Year'] = '9999'\n",
    "df_movies['Year'] = df_movies['Year'].astype(int)\n",
    "\n",
    "# Gross into int\n",
    "# df_movies['Gross'] = df_movies['Gross'].str.replace(',','')\n",
    "# df_movies['Gross'] = df_movies['Gross'].fillna(0).astype(int)\n",
    "\n",
    "# runtime into int \n",
    "# df_movies['Runtime'] = df_movies['Runtime'].str.replace(' min','').astype(int)\n",
    "# df_movies.dtypes"
   ]
  },
  {
   "cell_type": "markdown",
   "id": "8b8236c3-83f5-40d7-ae56-c1423059ba62",
   "metadata": {},
   "source": [
    "# 3. Missing values\n",
    "The 3rd step is to find the number of missing values across the columns of the dataframe. It’s important to understand the count of nulls so that we can gauge whether we need to treat them."
   ]
  },
  {
   "cell_type": "code",
   "execution_count": null,
   "id": "778163e0-960b-4138-880d-e8a4a5c15743",
   "metadata": {},
   "outputs": [],
   "source": [
    "# find nulls \n",
    "df_movies.isnull().sum()"
   ]
  },
  {
   "cell_type": "markdown",
   "id": "13a2676c-55b5-4159-838d-2012b021fdf6",
   "metadata": {},
   "source": [
    "# 4. Missing values treatment\n",
    "Once we know the count of missing values, the next step is to treat the columns with missing values.\n",
    "\n",
    "For illustration purposes, I am filling the nulls with the mean value of the columns, although there are more sophisticated methods of missing value treatment."
   ]
  },
  {
   "cell_type": "code",
   "execution_count": null,
   "id": "94626e7a-1419-4bd5-9ed2-b3cf51b7bdcb",
   "metadata": {},
   "outputs": [],
   "source": [
    "# let's replace the nulls with mean  (there are none - but if there were ... this is how\n",
    "df_movies['Metascore'].fillna(df_movies['Metascore'].mean())\n",
    "df_movies['Revenue (Millions)'].fillna(df_movies['Revenue (Millions)'].mean())\n",
    "df_movies.head()"
   ]
  },
  {
   "cell_type": "markdown",
   "id": "cb4e9b13-600e-44bb-808d-21119795b4b4",
   "metadata": {},
   "source": [
    "# 5. Outliers\n",
    "The step5 is to check for outliers. There are multiple ways of checking the outliers, we will be using the graphical method. We will pick one continuous variable and check for the outlier by looking at the histogram."
   ]
  },
  {
   "cell_type": "code",
   "execution_count": null,
   "id": "a2702eaf-2286-48a5-ba41-87e209f6af57",
   "metadata": {},
   "outputs": [],
   "source": [
    "# distribution of meta scores \n",
    "plt.hist(df_movies['Metascore'],bins = 15)\n",
    "plt.show()"
   ]
  },
  {
   "cell_type": "markdown",
   "id": "7306c271-66c6-4238-89d1-c90bb783124e",
   "metadata": {},
   "source": [
    "# 6. Outlier Treatment\n",
    "Step 6 is to treat the outlier detected in step 5. There are different ways of treating the outliers such as 1) Capping the min and max value limits 2) Removing the rows with outlier values.\n",
    "\n",
    "Although there is nothing off with the distribution of meta scores, for illustration purposes, let’s cap the minimum meta score value to 40."
   ]
  },
  {
   "cell_type": "code",
   "execution_count": null,
   "id": "d10081ba-bdef-45d5-a1c5-2a8c8ae0c751",
   "metadata": {},
   "outputs": [],
   "source": [
    "# capping the minimum meta score to 40\n",
    "df_movies.loc[df_movies['Metascore'] < 40,'Metascore'] = 40\n",
    "\n",
    "#check the minimum score \n",
    "df_movies['Metascore'].min()\n",
    "# output : 40.0"
   ]
  },
  {
   "cell_type": "markdown",
   "id": "c6b300f5-6305-4bf6-8182-66e8094e968c",
   "metadata": {},
   "source": [
    "# 7. Who\n",
    "Step 7 is to answer the questions related to a person, member, etc. For example in our use case, we have actors and directors and we can formulate and answer the following question related to them.\n",
    "\n",
    "Who has directed the most number of top IMDB movies? (univariate)\n",
    "Who has acted in most top IMDB movies? (univariate)\n",
    "Which Actor-Director combination gave most top IMDB movies? (bivariate)\n",
    "Who gave music in most top IMDB movies ? (Data not available)\n",
    "And More …..\n",
    "Now, let’s answer these questions."
   ]
  },
  {
   "cell_type": "code",
   "execution_count": null,
   "id": "887558f0-aad3-4274-b2c8-08b2d7b86634",
   "metadata": {},
   "outputs": [],
   "source": [
    "## Who has directed the most number of top IMDB movies ?\n",
    "df_movies.groupby(['Director']).agg({'Title':'count'}).reset_index().rename(columns = {'Title':'count'}).\\\n",
    "sort_values('count',ascending = False).head(5)\n",
    "\n",
    "## Who has acted in the most number of top movies \n",
    "df_movies.groupby(['Actors']).agg({'Title':'count'}).reset_index().rename(columns = {'Title':'count'}).\\\n",
    "sort_values('count',ascending = False).head(5)\n",
    "\n",
    "## Director - Actor works best \n",
    "df_movies.groupby(['Director','Actors'])['Title'].count().reset_index().\\\n",
    "rename(columns = {'Title':'Count'}).sort_values('Count',ascending = False).head(5)"
   ]
  },
  {
   "cell_type": "markdown",
   "id": "ecb90bd5-737d-4549-a158-135eb025f0ff",
   "metadata": {},
   "source": [
    "# 8. When\n",
    "Step 8 is to answer questions related to the time aspect- year, month, week, etc. In the contest of our data, we can find the following :\n",
    "\n",
    "Find the years with most movies in IMDB top 1000 ? (univariate)"
   ]
  },
  {
   "cell_type": "code",
   "execution_count": null,
   "id": "edd6cc67-0c14-409f-8f5a-7d5498e4f74e",
   "metadata": {},
   "outputs": [],
   "source": [
    "# finding years with most movies in top 1000\n",
    "year_dis = df_movies.groupby('Year')['Title'].count().reset_index().\\\n",
    "rename(columns = {'Title':'Count'}).sort_values('Count',ascending = False).head(10)\n",
    "\n",
    "plt.bar(year_dis['Year'].astype(str), year_dis['Count'], width = 0.5)\n",
    "plt.xlabel('Year')\n",
    "plt.ylabel('Number of Movies')\n",
    "plt.title('Years with most movies in IMDB top 1000')\n",
    "plt.show()"
   ]
  },
  {
   "cell_type": "markdown",
   "id": "14c3c454-8e59-4b48-9137-b4e6f597ebea",
   "metadata": {},
   "source": [
    "# 9. Where\n",
    "Step 9 is to look at the things from the “place” perspective, for example, country, state, regions etc. In context to our data set, we can find the following :\n",
    "\n",
    "Find countries with most movies in IMDB top 1000.\n",
    "Currently, we don’t have the data to answer this question.\n",
    "\n",
    "While formulating these questions, I would recommend you to be as exhaustive as possible and don’t limit the thought process based on data availability because the data that is not available now could be obtained later."
   ]
  },
  {
   "cell_type": "markdown",
   "id": "54491d1e-b1b9-4007-8120-c304d6cda519",
   "metadata": {},
   "source": [
    "# 10. What/Which\n",
    "Step 10 is about formulating questions about things that are not covered above. These are not related to people, place, time but everything apart from these. This is a bit subjective and takes some time to get adept at.\n",
    "\n",
    "Which genres are featured most in the top 1000?\n",
    "What is the duration of the top movies?\n",
    "What is the correlation between the rating and gross earning?\n",
    "and more…\n",
    "For illustration purposes, we are answering the first question using the following code :"
   ]
  },
  {
   "cell_type": "code",
   "execution_count": null,
   "id": "e21795f5-9e7c-404d-ae33-ee01671dca19",
   "metadata": {},
   "outputs": [],
   "source": [
    "### Which genres are featured most in top 1000 ? \n",
    "genre_dis = df_movies.groupby('Genre')['Title'].count().reset_index().\\\n",
    "rename(columns = {'Title':'Count'}).sort_values('Count',ascending = False).head(5)\n",
    "fig, ax = plt.subplots()\n",
    "plt.bar(genre_dis['Genre'], genre_dis['Count'], width = 0.5)\n",
    "plt.setp(ax.get_xticklabels(), rotation=30, horizontalalignment='right')\n",
    "plt.show()"
   ]
  },
  {
   "cell_type": "code",
   "execution_count": null,
   "id": "6c39daa9-03a5-41c9-adaf-59ebdfe30572",
   "metadata": {},
   "outputs": [],
   "source": []
  }
 ],
 "metadata": {
  "kernelspec": {
   "display_name": "Python 3 (ipykernel)",
   "language": "python",
   "name": "python3"
  },
  "language_info": {
   "codemirror_mode": {
    "name": "ipython",
    "version": 3
   },
   "file_extension": ".py",
   "mimetype": "text/x-python",
   "name": "python",
   "nbconvert_exporter": "python",
   "pygments_lexer": "ipython3",
   "version": "3.7.12"
  }
 },
 "nbformat": 4,
 "nbformat_minor": 5
}
