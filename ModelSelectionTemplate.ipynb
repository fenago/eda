{
 "cells": [
  {
   "cell_type": "code",
   "execution_count": null,
   "id": "b30e61ad-ae03-42a4-8984-fb43bb16ead8",
   "metadata": {},
   "outputs": [],
   "source": [
    "import numpy as np\n",
    "import pandas as pd\n",
    "import seaborn as sns\n",
    "import matplotlib.pyplot as plt\n",
    "from timeit import timeit\n",
    "\n",
    "import warnings\n",
    "warnings.filterwarnings('ignore')\n",
    "\n",
    "from sklearn.model_selection import cross_val_score\n",
    "from sklearn.model_selection import RepeatedStratifiedKFold\n",
    "from sklearn.preprocessing import OneHotEncoder, LabelEncoder\n",
    "from sklearn.preprocessing import MinMaxScaler\n",
    "from sklearn.compose import ColumnTransformer\n",
    "\n",
    "from sklearn.linear_model import LogisticRegression\n",
    "from sklearn.linear_model import Perceptron\n",
    "from sklearn.linear_model import SGDClassifier\n",
    "from sklearn.tree import DecisionTreeClassifier\n",
    "from sklearn.ensemble import RandomForestClassifier\n",
    "from sklearn.ensemble import GradientBoostingClassifier\n",
    "from sklearn.ensemble import HistGradientBoostingClassifier\n",
    "from sklearn.ensemble import AdaBoostClassifier\n",
    "from sklearn.ensemble import ExtraTreesClassifier\n",
    "from sklearn.neighbors import KNeighborsClassifier\n",
    "from sklearn.svm import SVC\n",
    "\n",
    "from sklearn.compose import make_column_selector as selector\n",
    "from sklearn.pipeline import Pipeline"
   ]
  },
  {
   "cell_type": "code",
   "execution_count": null,
   "id": "c163f328-94e7-4f34-845f-48b386fbdc1f",
   "metadata": {},
   "outputs": [],
   "source": [
    "df = pd.read_csv(\"https://raw.githubusercontent.com/fenago/datasets/main/bank.csv\", delimiter=\";\")\n",
    "df.shape"
   ]
  },
  {
   "cell_type": "code",
   "execution_count": null,
   "id": "99b18286-1e53-4c7c-b253-5256aa5020d7",
   "metadata": {},
   "outputs": [],
   "source": [
    "# check for nan/null\n",
    "df.isnull().values.any()\n",
    "# drop duplicates\n",
    "len(df.drop_duplicates())"
   ]
  },
  {
   "cell_type": "code",
   "execution_count": null,
   "id": "47644b4a-be5e-47a8-8e5f-48fbca257d2f",
   "metadata": {},
   "outputs": [],
   "source": [
    "df.drop(columns='duration', inplace=True)"
   ]
  },
  {
   "cell_type": "code",
   "execution_count": null,
   "id": "9361d77d-6032-4143-ac0b-2b87c58854ab",
   "metadata": {},
   "outputs": [],
   "source": [
    "X = df.iloc[:, :-1]\n",
    "y = df.iloc[:,-1]"
   ]
  },
  {
   "cell_type": "code",
   "execution_count": null,
   "id": "d1e2037e-9b65-4859-930c-22ea5bc7e2b7",
   "metadata": {},
   "outputs": [],
   "source": [
    "enc = LabelEncoder()\n",
    "enc.fit(y)\n",
    "y = enc.transform(y)"
   ]
  },
  {
   "cell_type": "code",
   "execution_count": null,
   "id": "9a21fac3-a35d-4344-ae27-ce28f5e5d25d",
   "metadata": {},
   "outputs": [],
   "source": [
    "column_trans = ColumnTransformer(transformers=\n",
    "        [('num', MinMaxScaler(), selector(dtype_exclude=\"object\")),\n",
    "        ('cat', OneHotEncoder(), selector(dtype_include=\"object\"))],\n",
    "        remainder='drop')"
   ]
  },
  {
   "cell_type": "code",
   "execution_count": null,
   "id": "125017c1-2f65-44de-858f-3fe1c9ce9e5b",
   "metadata": {},
   "outputs": [],
   "source": [
    "def get_models():\n",
    "    models = dict()\n",
    "\n",
    "    models['Logistic Regression'] = Pipeline([('prep', column_trans), \n",
    "        ('model', LogisticRegression(random_state=42, max_iter=1000, class_weight='balanced'))])\n",
    "\n",
    "    models['Decision Tree'] = Pipeline([('prep', column_trans), \n",
    "        ('model', DecisionTreeClassifier(random_state=42, class_weight='balanced'))])\n",
    "\n",
    "    models['Random Forest'] = Pipeline([('prep', column_trans), \n",
    "        ('model', RandomForestClassifier(random_state=42, class_weight='balanced'))])\n",
    "\n",
    "    models['Extra Trees'] = Pipeline([('prep', column_trans), \n",
    "        ('model', ExtraTreesClassifier(random_state=42, class_weight='balanced'))])\n",
    "\n",
    "    models['Gradient Boosting'] = Pipeline([('prep', column_trans), \n",
    "        ('model', GradientBoostingClassifier(random_state=42))])\n",
    "\n",
    "    models['Hist Gradient Boosting'] = Pipeline([('prep', column_trans), \n",
    "        ('model', HistGradientBoostingClassifier(random_state=42))])\n",
    "\n",
    "    models['AdaBoost'] = Pipeline([('prep', column_trans), \n",
    "        ('model', AdaBoostClassifier(random_state=42))]) \n",
    "\n",
    "    models['SGD'] = Pipeline([('prep', column_trans), \n",
    "        ('model', SGDClassifier(random_state=42, class_weight='balanced'))])\n",
    "\n",
    "    models['SVC'] = Pipeline([('prep', column_trans), \n",
    "        ('model', SVC(class_weight='balanced', random_state=42))])\n",
    "\n",
    "    models['Nearest Neighbor'] = Pipeline([('prep', column_trans), \n",
    "        ('model', KNeighborsClassifier(3))])\n",
    "\n",
    "    models['Perceptron'] = Pipeline([('prep', column_trans), \n",
    "        ('model', Perceptron(random_state=42))])\n",
    "\n",
    "    return models"
   ]
  },
  {
   "cell_type": "code",
   "execution_count": null,
   "id": "30a9a672-803c-4e96-86ed-210618dffd9f",
   "metadata": {},
   "outputs": [],
   "source": [
    "# evaluate a give model using cross-validation\n",
    "def evaluate_model(model, X, y):\n",
    "    cv = RepeatedStratifiedKFold(n_splits=5, \n",
    "                                 n_repeats=10, \n",
    "                                 random_state=1)\n",
    "    scores = cross_val_score(model, X, y, \n",
    "                             scoring='roc_auc', \n",
    "                             cv=cv, n_jobs=-1)\n",
    "    return scores"
   ]
  },
  {
   "cell_type": "code",
   "execution_count": null,
   "id": "bf948706-d6a6-4525-89af-ab2890350a45",
   "metadata": {},
   "outputs": [],
   "source": [
    "# get the models to evaluate\n",
    "models = get_models()\n",
    "\n",
    "# evaluate the models and store results\n",
    "results, names = list(), list()\n",
    "for name, model in models.items():\n",
    "    %time scores = evaluate_model(model, X, y)\n",
    "    results.append(scores)\n",
    "    names.append(name)\n",
    "    print('* %s Score = %.3f StdDev = (%.3f)' % (name, np.mean(scores), np.std(scores)), '\\n')\n",
    "\n",
    "# plot model performance for comparison\n",
    "plt.figure(figsize=(10,8))\n",
    "plt.boxplot(results, labels=names, showmeans=True)\n",
    "plt.xticks(rotation=45)"
   ]
  },
  {
   "cell_type": "code",
   "execution_count": null,
   "id": "a031b61b-523a-4787-9c30-309348adba08",
   "metadata": {},
   "outputs": [],
   "source": []
  }
 ],
 "metadata": {
  "kernelspec": {
   "display_name": "Python 3 (ipykernel)",
   "language": "python",
   "name": "python3"
  },
  "language_info": {
   "codemirror_mode": {
    "name": "ipython",
    "version": 3
   },
   "file_extension": ".py",
   "mimetype": "text/x-python",
   "name": "python",
   "nbconvert_exporter": "python",
   "pygments_lexer": "ipython3",
   "version": "3.7.12"
  }
 },
 "nbformat": 4,
 "nbformat_minor": 5
}
