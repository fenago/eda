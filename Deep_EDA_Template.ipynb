{
 "cells": [
  {
   "cell_type": "code",
   "execution_count": null,
   "id": "4f32a0f4-8f83-4989-b6ff-b8c5af045cba",
   "metadata": {},
   "outputs": [],
   "source": [
    "# Import basic libraries\n",
    "import numpy as np \n",
    "import pandas as pd \n",
    "\n",
    "# import visualization libraries\n",
    "import seaborn as sns\n",
    "import matplotlib.pyplot as plt\n",
    "%matplotlib inline"
   ]
  },
  {
   "cell_type": "code",
   "execution_count": null,
   "id": "ddefd363-e7e0-4e76-85d7-953656ce296b",
   "metadata": {},
   "outputs": [],
   "source": [
    "df = pd.read_csv('https://raw.githubusercontent.com/fenago/compas-analysis/master/compas-scores.csv')"
   ]
  },
  {
   "cell_type": "code",
   "execution_count": null,
   "id": "9b3b39dd-4f1c-4c9b-b805-b5b29a0bd117",
   "metadata": {},
   "outputs": [],
   "source": [
    "df.head(5)"
   ]
  },
  {
   "cell_type": "code",
   "execution_count": null,
   "id": "1b6cc970-fb71-4ec3-946e-88b8bfa7dbfe",
   "metadata": {},
   "outputs": [],
   "source": [
    "df.info()"
   ]
  },
  {
   "cell_type": "code",
   "execution_count": null,
   "id": "dea185e5-138d-4010-ac56-f4d216981a82",
   "metadata": {},
   "outputs": [],
   "source": [
    "print(df.duplicated().sum())\n",
    "# df[\"column_name\"].unique()\n",
    "# df[\"column_name\"].value_counts()\n",
    "# df.isnull().sum()\n",
    "# fill nulls with zeros:  df.replace(np.nan, \"0\", inplace = True)\n",
    "# filter: df2 = df[df[\"column_name\"] > 100]\n",
    "# df.boxplot()\n"
   ]
  },
  {
   "cell_type": "code",
   "execution_count": null,
   "id": "80aaa42c-f461-4977-8f4f-47f6e6ea1a8d",
   "metadata": {},
   "outputs": [],
   "source": [
    "df.describe().T"
   ]
  },
  {
   "cell_type": "code",
   "execution_count": null,
   "id": "1f57d011-e7ab-4fec-ac29-d248e63db09c",
   "metadata": {},
   "outputs": [],
   "source": [
    "df.isnull().sum()"
   ]
  },
  {
   "cell_type": "markdown",
   "id": "ad2cb1a6-9741-4e85-833d-a602d58d72ab",
   "metadata": {},
   "source": [
    "# DATA PREPROCESSSING"
   ]
  },
  {
   "cell_type": "code",
   "execution_count": null,
   "id": "db490f17-98c5-44c7-8efb-cb7981504ec0",
   "metadata": {},
   "outputs": [],
   "source": [
    "print('sex ' + str(sorted(df['sex'].unique())))\n",
    "print('race ' + str(sorted(df['race'].unique())))\n",
    "print('priors_count ' + str(sorted(df['priors_count'].unique())))\n",
    "print('is_violent_recid ' + str(sorted(df['is_violent_recid'].unique())))\n",
    "print('is_recid ' + str(sorted(df['is_recid'].unique())))"
   ]
  },
  {
   "cell_type": "code",
   "execution_count": null,
   "id": "2377e934-62d4-452e-8e71-3308eac2e242",
   "metadata": {},
   "outputs": [],
   "source": [
    "df = df[df.is_recid != -1]\n",
    "print('is_recid ' + str(sorted(df['is_recid'].unique())))"
   ]
  },
  {
   "cell_type": "code",
   "execution_count": null,
   "id": "b32f1292-fa9f-437f-a38e-4eff6aed24da",
   "metadata": {},
   "outputs": [],
   "source": [
    "df = df.rename(columns={'score_text': 'prediction', \n",
    "                        'priors_count': 'prior_charges'})\n",
    "df.head()"
   ]
  },
  {
   "cell_type": "markdown",
   "id": "64b92371-0f97-4f8b-8964-808f452e12e1",
   "metadata": {},
   "source": [
    "# Univariate Analysis"
   ]
  },
  {
   "cell_type": "code",
   "execution_count": null,
   "id": "7b6377e2-a321-4bc6-bff4-33751a46b21d",
   "metadata": {},
   "outputs": [],
   "source": [
    "df.describe(include='all')"
   ]
  },
  {
   "cell_type": "code",
   "execution_count": null,
   "id": "c66be7c5-3d07-4f7f-b0dd-27740645b2ae",
   "metadata": {},
   "outputs": [],
   "source": [
    "df.info()"
   ]
  },
  {
   "cell_type": "markdown",
   "id": "9793a414-8bc3-4acd-ae11-5514c48cd79a",
   "metadata": {},
   "source": [
    "### Univariate Analysis of Continuous Variables"
   ]
  },
  {
   "cell_type": "code",
   "execution_count": null,
   "id": "b8f878e9-e25d-425f-aee7-f2b3b904ad38",
   "metadata": {},
   "outputs": [],
   "source": [
    "# store columns with specific data type\n",
    "integer_columns = df.select_dtypes(include=['int64']).columns\n",
    "float_columns = df.select_dtypes(include=['float64']).columns\n",
    "object_columns = df.select_dtypes(include=['object']).columns\n",
    "  \n",
    "# display columns\n",
    "print('\\nint64 columns:\\n',integer_columns)\n",
    "print('\\nfloat64 columns:\\n',float_columns)\n",
    "print('\\nobject columns:\\n',object_columns)"
   ]
  },
  {
   "cell_type": "code",
   "execution_count": null,
   "id": "11479e47-1a2a-456c-81fd-67497eb332b2",
   "metadata": {},
   "outputs": [],
   "source": [
    "# Remove the .columns and it saves it as a dataframe\n",
    "num_features = df.select_dtypes(exclude=['object'])\n",
    "cat_features = df.select_dtypes(include=['object'])\n",
    "type(num_features)\n",
    "type(cat_features)"
   ]
  },
  {
   "cell_type": "code",
   "execution_count": null,
   "id": "30c39518-30a9-4ebd-afe3-d4d6fcc8213d",
   "metadata": {},
   "outputs": [],
   "source": [
    "num_list = ['days_b_screening_arrest', 'c_days_from_compas', 'num_r_cases',\n",
    "       'r_days_from_arrest', 'num_vr_cases','id', 'age', 'juv_fel_count', 'decile_score', 'juv_misd_count',\n",
    "       'juv_other_count', 'prior_charges', 'is_recid', 'is_violent_recid',\n",
    "       'v_decile_score', 'decile_score.1']\n",
    "num_list"
   ]
  },
  {
   "cell_type": "code",
   "execution_count": null,
   "id": "63afcfa7-a3eb-4f16-b272-5590da3ecef3",
   "metadata": {},
   "outputs": [],
   "source": [
    "cat_list = ['name', 'first', 'last', 'compas_screening_date', 'sex', 'dob',\n",
    "       'age_cat', 'race', 'c_jail_in', 'c_jail_out', 'c_case_number',\n",
    "       'c_offense_date', 'c_arrest_date', 'c_charge_degree', 'c_charge_desc',\n",
    "       'r_case_number', 'r_charge_degree', 'r_offense_date', 'r_charge_desc',\n",
    "       'r_jail_in', 'r_jail_out', 'vr_case_number', 'vr_charge_degree',\n",
    "       'vr_offense_date', 'vr_charge_desc', 'v_type_of_assessment',\n",
    "       'v_score_text', 'v_screening_date', 'type_of_assessment', 'prediction',\n",
    "       'screening_date']"
   ]
  },
  {
   "cell_type": "code",
   "execution_count": null,
   "id": "1b024e11-1edb-4928-90a6-64bd14b19222",
   "metadata": {},
   "outputs": [],
   "source": [
    "# Remove the .columns and it saves it as a dataframe\n",
    "num_features = df.select_dtypes(exclude=['object'])\n",
    "cat_features = df.select_dtypes(include=['object'])\n",
    "type(num_features)\n",
    "type(cat_features)"
   ]
  },
  {
   "cell_type": "code",
   "execution_count": null,
   "id": "96e08f4e-dd64-4a9e-90b8-81e15483e549",
   "metadata": {},
   "outputs": [],
   "source": [
    "num_features.describe(include='all')"
   ]
  },
  {
   "cell_type": "markdown",
   "id": "90c562cb-4bb2-477b-bea7-96775864b725",
   "metadata": {},
   "source": [
    "#### Now we will plot histograms for continuous columns to see the frequency distribution of values of columns.\n",
    "The histogram for the age column can be plotted using the below line of code"
   ]
  },
  {
   "cell_type": "code",
   "execution_count": null,
   "id": "8a510cee-588d-472e-b4f1-8db8ac11af0f",
   "metadata": {},
   "outputs": [],
   "source": [
    "plt.figure(figsize=(12,5))\n",
    "df['age'].plot(kind='density')\n",
    "plt.axvline(x=df.age.mean(),label='mean',color='Red')\n",
    "plt.axvline(x=df.age.median(),label='median',color='Green')\n",
    "#plt.axvline(x=df.age.mode(),label='mode',color='Black')\n",
    "plt.boxplot"
   ]
  },
  {
   "cell_type": "code",
   "execution_count": null,
   "id": "883469ec-2e09-48eb-aa67-385a804d05fa",
   "metadata": {},
   "outputs": [],
   "source": [
    "sns.histplot(df.age,kde=True)"
   ]
  },
  {
   "cell_type": "code",
   "execution_count": null,
   "id": "1e47d992-c682-4e20-b5b0-4f73129ab58e",
   "metadata": {},
   "outputs": [],
   "source": [
    "sns.histplot(df.prior_charges,kde=True)"
   ]
  },
  {
   "cell_type": "markdown",
   "id": "0d723128-63d1-4cfe-924c-ec2141eb341a",
   "metadata": {},
   "source": [
    "#### Count plots various variables"
   ]
  },
  {
   "cell_type": "code",
   "execution_count": null,
   "id": "d490f412-d666-483c-85d3-11d8365f05bd",
   "metadata": {},
   "outputs": [],
   "source": [
    "sns.countplot(x=\"is_recid\", data=df)"
   ]
  },
  {
   "cell_type": "code",
   "execution_count": null,
   "id": "2af27f0a-49bd-4143-8855-a312e6ca15d0",
   "metadata": {},
   "outputs": [],
   "source": [
    "df['is_recid'].value_counts()"
   ]
  },
  {
   "cell_type": "code",
   "execution_count": null,
   "id": "0b75f052-9355-43ba-b17a-e9f2f256340b",
   "metadata": {},
   "outputs": [],
   "source": [
    "sns.countplot(x=\"race\", data=df)"
   ]
  },
  {
   "cell_type": "code",
   "execution_count": null,
   "id": "acfe6cad-6568-41f2-9462-8b58b13ba342",
   "metadata": {},
   "outputs": [],
   "source": [
    "df['race'].value_counts()"
   ]
  },
  {
   "cell_type": "code",
   "execution_count": null,
   "id": "c7521e81-cebc-4108-a187-05759afb62d1",
   "metadata": {},
   "outputs": [],
   "source": [
    "sns.countplot(x=\"prior_charges\", data=df)"
   ]
  },
  {
   "cell_type": "code",
   "execution_count": null,
   "id": "e31e4180-9716-446d-8f73-a3eec93cf75e",
   "metadata": {},
   "outputs": [],
   "source": [
    "df['prior_charges'].value_counts()"
   ]
  },
  {
   "cell_type": "code",
   "execution_count": null,
   "id": "2fdd8152-66ee-485d-a0c7-f9b93a45c0a0",
   "metadata": {},
   "outputs": [],
   "source": [
    "sns.countplot(x=\"age_cat\", data=df)"
   ]
  },
  {
   "cell_type": "code",
   "execution_count": null,
   "id": "a2056d19-dee8-4068-b5b8-72335b4be01c",
   "metadata": {},
   "outputs": [],
   "source": [
    "df['age_cat'].value_counts()"
   ]
  },
  {
   "cell_type": "code",
   "execution_count": null,
   "id": "1e026b76-8c6a-49b3-bc11-9a3f780a9f4c",
   "metadata": {},
   "outputs": [],
   "source": [
    "sns.countplot(x=\"prior_charges\", data=df)"
   ]
  },
  {
   "cell_type": "code",
   "execution_count": null,
   "id": "f7da1d9a-6947-4079-b6eb-b4a5ec26f9b0",
   "metadata": {},
   "outputs": [],
   "source": [
    "df['prior_charges'].value_counts()"
   ]
  },
  {
   "cell_type": "code",
   "execution_count": null,
   "id": "56a11762-c5cb-4768-9ccb-b4db75adbf56",
   "metadata": {},
   "outputs": [],
   "source": [
    "sns.countplot(x=\"juv_fel_count\", data=df)"
   ]
  },
  {
   "cell_type": "code",
   "execution_count": null,
   "id": "95ed9e5d-0864-4b2f-9180-016124c2d2b6",
   "metadata": {},
   "outputs": [],
   "source": [
    "df['juv_fel_count'].value_counts()"
   ]
  },
  {
   "cell_type": "code",
   "execution_count": null,
   "id": "802bbd12-a3e7-4ed0-b6e4-54b3d4326630",
   "metadata": {},
   "outputs": [],
   "source": [
    "sns.countplot(x=\"juv_misd_count\", data=df)"
   ]
  },
  {
   "cell_type": "code",
   "execution_count": null,
   "id": "4857c8dd-03b9-40d4-bc43-d57cd3322e32",
   "metadata": {},
   "outputs": [],
   "source": [
    "df['juv_misd_count'].value_counts()"
   ]
  },
  {
   "cell_type": "markdown",
   "id": "464e41f8-6724-4769-bf53-3156019c032c",
   "metadata": {},
   "source": [
    "# Bivariate Analysis"
   ]
  },
  {
   "cell_type": "markdown",
   "id": "c8a10ce8-079f-4cbc-8c93-d8b6819d4475",
   "metadata": {},
   "source": [
    "#### Bivariate Analysis of Categorical Variables vs Categorical Variables:"
   ]
  },
  {
   "cell_type": "code",
   "execution_count": null,
   "id": "1a729525-ecf0-4fdb-9628-46ef1bd16471",
   "metadata": {},
   "outputs": [],
   "source": [
    "sns.set(rc={'figure.figsize':(15,10)})\n",
    "sex = sns.countplot(x='sex', hue='is_recid', data=df)\n",
    "plt.show()"
   ]
  },
  {
   "cell_type": "code",
   "execution_count": null,
   "id": "7ef3f020-61de-4caa-9481-c71b0a95d5e0",
   "metadata": {},
   "outputs": [],
   "source": [
    "pd.crosstab(df.sex,df.is_recid,margins=True)"
   ]
  },
  {
   "cell_type": "code",
   "execution_count": null,
   "id": "349c1a04-b135-45bf-9552-0320f35d1bda",
   "metadata": {},
   "outputs": [],
   "source": [
    "pd.crosstab(df.sex,df.is_recid,normalize='index')"
   ]
  },
  {
   "cell_type": "code",
   "execution_count": null,
   "id": "838dccce-de7a-45bf-8dd9-6780324b0dd8",
   "metadata": {},
   "outputs": [],
   "source": [
    "sns.set(rc={'figure.figsize':(15,10)})\n",
    "edu = sns.countplot(x='race', hue='is_recid', data=df)\n",
    "plt.show()"
   ]
  },
  {
   "cell_type": "code",
   "execution_count": null,
   "id": "d8de370e-6a79-4d83-9f1b-053b2a64a26f",
   "metadata": {},
   "outputs": [],
   "source": [
    "pd.crosstab(df.race,df.is_recid,margins=True)"
   ]
  },
  {
   "cell_type": "code",
   "execution_count": null,
   "id": "5d4a0672-86af-48be-adcf-327f41345092",
   "metadata": {},
   "outputs": [],
   "source": [
    "pd.crosstab(df.race,df.is_recid,normalize='index')"
   ]
  },
  {
   "cell_type": "code",
   "execution_count": null,
   "id": "bf2a018d-e9c8-4bd3-abbe-248a6905abe2",
   "metadata": {},
   "outputs": [],
   "source": [
    "sns.set(rc={'figure.figsize':(15,10)})\n",
    "priors = sns.countplot(x='prior_charges', hue='is_recid', data=df)\n",
    "plt.show()"
   ]
  },
  {
   "cell_type": "code",
   "execution_count": null,
   "id": "51fb83dc-b98e-423c-aaa0-c03301410de1",
   "metadata": {},
   "outputs": [],
   "source": [
    "pd.crosstab(df.prior_charges,df.is_recid,margins=True)"
   ]
  },
  {
   "cell_type": "code",
   "execution_count": null,
   "id": "bea33d55-da99-4649-a8fc-19f11c404b32",
   "metadata": {},
   "outputs": [],
   "source": [
    "pd.crosstab(df.prior_charges,df.is_recid,normalize='index',margins=True)"
   ]
  },
  {
   "cell_type": "code",
   "execution_count": null,
   "id": "9fbe35c0-65e6-434a-9859-ed1e99c345e7",
   "metadata": {},
   "outputs": [],
   "source": [
    "sns.set(rc={'figure.figsize':(15,10)})\n",
    "edu = sns.countplot(x='juv_fel_count', hue='is_recid', data=df)\n",
    "plt.show()"
   ]
  },
  {
   "cell_type": "code",
   "execution_count": null,
   "id": "64e7333e-e439-4e51-9a23-1eebfcffdec5",
   "metadata": {},
   "outputs": [],
   "source": [
    "pd.crosstab(df.juv_fel_count,df.is_recid,margins=True)"
   ]
  },
  {
   "cell_type": "code",
   "execution_count": null,
   "id": "abdd8383-f5c3-4465-97c0-364dad69d5b1",
   "metadata": {},
   "outputs": [],
   "source": [
    "pd.crosstab(df.juv_fel_count,df.is_recid,normalize='index',margins=True)"
   ]
  },
  {
   "cell_type": "code",
   "execution_count": null,
   "id": "5b49d4ec-233e-4415-8829-fcac20a4bd0d",
   "metadata": {},
   "outputs": [],
   "source": [
    "sns.set(rc={'figure.figsize':(15,10)})\n",
    "edu = sns.countplot(x='age_cat', hue='is_recid', data=df)\n",
    "plt.show()"
   ]
  },
  {
   "cell_type": "code",
   "execution_count": null,
   "id": "ac13a105-c85d-4c94-8b4e-25d520105755",
   "metadata": {},
   "outputs": [],
   "source": [
    "pd.crosstab(df.age_cat,df.is_recid,margins=True)"
   ]
  },
  {
   "cell_type": "code",
   "execution_count": null,
   "id": "f3c318d5-49af-49a3-b1ea-cc0d4c3c9c61",
   "metadata": {},
   "outputs": [],
   "source": [
    "pd.crosstab(df.age_cat,df.is_recid,normalize='index',margins=True)"
   ]
  },
  {
   "cell_type": "markdown",
   "id": "61e14386-bac2-4f61-a291-99b8a1b45c0a",
   "metadata": {},
   "source": [
    "We can also draw line plots and scatterplots to see a relation between the two continuous variables."
   ]
  },
  {
   "cell_type": "code",
   "execution_count": null,
   "id": "6d22a299-c5ae-4846-86ba-e61f8843bbfa",
   "metadata": {},
   "outputs": [],
   "source": [
    "sns.scatterplot(df.age, df.r_days_from_arrest)\n",
    "# plt.ylim(0,10)"
   ]
  },
  {
   "cell_type": "markdown",
   "id": "de743d13-1730-457c-89c6-df7989a2e9fc",
   "metadata": {},
   "source": [
    "#### Bivariate Analysis of Categorical Variables vs Continuous Variables:\n",
    "GroupBy: First, we will perform the GroupBy operation on the continuous variables. Groupby allows us to split our data into separate groups to perform computations for better analysis."
   ]
  },
  {
   "cell_type": "code",
   "execution_count": null,
   "id": "5a3b8d13-6eb2-432a-aec6-38f066dbfb8d",
   "metadata": {},
   "outputs": [],
   "source": [
    "# Get a global view of all continuous variables with respect to a single categorical variable\n",
    "# This can take a long time to run - you may want to limit the charts\n",
    "# this is for the eyeball test.  look for obvious patterns\n",
    "\n",
    "# sns.pairplot(data=df[num_list],hue='is_recid')"
   ]
  },
  {
   "cell_type": "code",
   "execution_count": null,
   "id": "c79f636f-f719-4491-a2c6-d86223fdb4af",
   "metadata": {},
   "outputs": [],
   "source": []
  },
  {
   "cell_type": "code",
   "execution_count": null,
   "id": "0b648044-12b5-4350-83ee-747c81a45fa3",
   "metadata": {},
   "outputs": [],
   "source": [
    "# by=<catagorical variable... then - everything after that is a numeric (continuous variable)\n",
    "df.groupby(by='is_recid').agg('mean')"
   ]
  },
  {
   "cell_type": "code",
   "execution_count": null,
   "id": "6a4fe17d-333a-41f9-8783-bcbc8e517e62",
   "metadata": {},
   "outputs": [],
   "source": [
    "df.groupby(by='is_recid').agg('mean')[['age','prior_charges','decile_score']]"
   ]
  },
  {
   "cell_type": "markdown",
   "id": "1cca420c-0a0d-4bc6-a591-b1de35b8ba35",
   "metadata": {},
   "source": [
    "KDE Plots with Hue: A kernel density estimate (KDE) plot is a method for visualizing the distribution of observations in a dataset, analogous to a histogram. KDE represents the data using a continuous probability density curve in one or more dimensions.\n",
    "\n",
    "We will plot KDE plots of continius variables with hue=’is_recid’"
   ]
  },
  {
   "cell_type": "code",
   "execution_count": null,
   "id": "3dbc0f06-d5e5-432a-8956-64f0d1fa2fda",
   "metadata": {},
   "outputs": [],
   "source": [
    "# x = <NUMERIC VARIABLE>, hue = <CATEGORICAL VARIABLE>\n",
    "plt.figure(figsize=(12,8))\n",
    "sns.kdeplot(data=df,x='age',hue='is_recid',fill=True)"
   ]
  },
  {
   "cell_type": "code",
   "execution_count": null,
   "id": "c04dfde3-5e74-42ce-8e63-b9997a8d72f7",
   "metadata": {},
   "outputs": [],
   "source": [
    "plt.figure(figsize=(12,8))\n",
    "sns.kdeplot(data=df,x='prior_charges',hue='is_recid',fill=True)"
   ]
  },
  {
   "cell_type": "code",
   "execution_count": null,
   "id": "eea3c68a-d752-44f6-bc8f-04c4b0366259",
   "metadata": {},
   "outputs": [],
   "source": [
    "plt.figure(figsize=(12,8))\n",
    "sns.kdeplot(data=df,x='v_decile_score',hue='is_recid',fill=True)"
   ]
  },
  {
   "cell_type": "markdown",
   "id": "fe4859b6-207a-4025-b15f-0f22f1b77939",
   "metadata": {},
   "source": [
    "In the above plots, we can see how the distribution of variables behaves separately for the “Approved‘ and ‘Rejected’ cases."
   ]
  },
  {
   "cell_type": "markdown",
   "id": "f7b0d11b-3f70-4db7-b425-6e52f641fef6",
   "metadata": {},
   "source": [
    "#### Bivariate Analysis of Categorical Variables vs Categorical Variables:"
   ]
  },
  {
   "cell_type": "code",
   "execution_count": null,
   "id": "694874f2-c36e-4a18-b63e-2493f985a102",
   "metadata": {},
   "outputs": [],
   "source": [
    "df['is_recid'].value_counts()"
   ]
  },
  {
   "cell_type": "code",
   "execution_count": null,
   "id": "f7e9f4de-14d2-4971-b6f1-eeeef091ddea",
   "metadata": {},
   "outputs": [],
   "source": [
    "# This is the global mean for recidivisim rates for ALL \n",
    "# So we use this as the basis and compare individual features with this value to see if a feature is above or below this\n",
    "df['is_recid'].value_counts(normalize=True)"
   ]
  },
  {
   "cell_type": "code",
   "execution_count": null,
   "id": "535e3b39-7614-4344-9ede-f073e98c9a72",
   "metadata": {},
   "outputs": [],
   "source": [
    "# Compare the values to the global mean.  if it is close to the global mean then it doesn't have a lot of predictive power\n",
    "# if it is far from the global mean - then there is something special about the variable that gives it predictive power\n",
    "pd.crosstab(df.race,df.is_recid,normalize='index')"
   ]
  },
  {
   "cell_type": "code",
   "execution_count": null,
   "id": "cc109bd6-3405-4d28-bfd4-8e988c04c8da",
   "metadata": {},
   "outputs": [],
   "source": [
    "pd.crosstab(df.age_cat,df.is_recid,normalize='index')"
   ]
  },
  {
   "cell_type": "code",
   "execution_count": null,
   "id": "33ebf76e-77ec-448e-bcd4-822d219cd70a",
   "metadata": {},
   "outputs": [],
   "source": [
    "cat_features.dtypes"
   ]
  },
  {
   "cell_type": "code",
   "execution_count": null,
   "id": "0b23ff2a-1176-4642-b64e-a3ce0ce756a7",
   "metadata": {},
   "outputs": [],
   "source": [
    "# by= CAT VARIABLE   &&   ALL others CONTINUOUS VARIABLES\n",
    "df.groupby(by='is_recid').agg('mean')[['age','prior_charges']]"
   ]
  },
  {
   "cell_type": "code",
   "execution_count": null,
   "id": "07bafe6e-e92e-402b-8034-47628ffbe745",
   "metadata": {},
   "outputs": [],
   "source": [
    "# Means TEST - these are the GLOBAL Averages.\n",
    "# Compare individual categorical values with the MEAN and look for significant differences\n",
    "# Important - all of this assumes an even distribution of the data\n",
    "df[num_list].agg('mean')"
   ]
  },
  {
   "cell_type": "code",
   "execution_count": null,
   "id": "bdb68cee-9139-4116-99d7-f59da5d3b5e8",
   "metadata": {},
   "outputs": [],
   "source": [
    "df[df.race=='African-American'][num_list].agg('mean')"
   ]
  },
  {
   "cell_type": "code",
   "execution_count": null,
   "id": "2b1fcdb2-2df6-419d-995c-754ba759e41d",
   "metadata": {},
   "outputs": [],
   "source": [
    "df[df.sex=='Female'][num_list].agg('mean')"
   ]
  },
  {
   "cell_type": "code",
   "execution_count": null,
   "id": "cf3185ea-e1d5-42fe-b51b-0c516f15f4a3",
   "metadata": {},
   "outputs": [],
   "source": [
    "# Use Crosstabs to validate individual hypothesis\n",
    "pd.crosstab(df.sex,df.is_recid,normalize='index',margins=True)"
   ]
  },
  {
   "cell_type": "code",
   "execution_count": null,
   "id": "4b9e1ce3-b9d0-46b6-932f-cfc5cffeae35",
   "metadata": {},
   "outputs": [],
   "source": [
    "# numeric to numeric visual\n",
    "# num_features\n",
    "g = sns.jointplot(x='prior_charges',y='age',data=df,kind='reg')\n",
    "regline = g.ax_joint.get_lines()[0]\n",
    "regline.set_color('red')\n",
    "regline.set_zorder(5)"
   ]
  },
  {
   "cell_type": "code",
   "execution_count": null,
   "id": "909d7427-dedc-42b7-a8a7-420079919e7e",
   "metadata": {},
   "outputs": [],
   "source": [
    "sns.boxplot(data=df,x='sex',y='decile_score')"
   ]
  },
  {
   "cell_type": "markdown",
   "id": "73802637-ed8c-4568-95c0-021918fc34ad",
   "metadata": {},
   "source": [
    "# Correlations"
   ]
  },
  {
   "cell_type": "code",
   "execution_count": null,
   "id": "5cb3c3bb-53af-4374-9476-ddf10d5f789c",
   "metadata": {},
   "outputs": [],
   "source": [
    "num_features.corr()"
   ]
  },
  {
   "cell_type": "code",
   "execution_count": null,
   "id": "71c0967f-2a32-4e45-9693-f4387639a796",
   "metadata": {},
   "outputs": [],
   "source": [
    "sns.set(rc={'figure.figsize':(30,10)})\n",
    "sns.set_context(\"talk\", font_scale=0.7)"
   ]
  },
  {
   "cell_type": "code",
   "execution_count": null,
   "id": "3e7ff40e-6faa-4614-bb70-879e243bcec5",
   "metadata": {},
   "outputs": [],
   "source": [
    "sns.heatmap(df.iloc[:,1:].corr(method='spearman'), cmap='rainbow_r', annot=True)"
   ]
  },
  {
   "cell_type": "code",
   "execution_count": null,
   "id": "b291870b-7a51-4479-a791-93d34a2218d9",
   "metadata": {},
   "outputs": [],
   "source": [
    "df.drop(\"is_recid\", axis=1).apply(lambda x: x.corr(df.is_recid,method='spearman'))"
   ]
  },
  {
   "cell_type": "markdown",
   "id": "2b9bd900-91ad-49b6-bcc1-e3ad0971ce91",
   "metadata": {},
   "source": [
    "# Multivariate Analysis"
   ]
  },
  {
   "cell_type": "code",
   "execution_count": null,
   "id": "8677a874-7638-4a41-a787-e8b164926dfe",
   "metadata": {},
   "outputs": [],
   "source": [
    "num_list"
   ]
  },
  {
   "cell_type": "code",
   "execution_count": null,
   "id": "ffd452f4-95b2-44bf-8313-af95b75c52e3",
   "metadata": {},
   "outputs": [],
   "source": [
    "#numeric/numeric/categorical  or numeric/categorical/categorical\n",
    "sns.violinplot(data=df,x='age_cat',y='decile_score',hue='is_recid',split=True)"
   ]
  },
  {
   "cell_type": "code",
   "execution_count": null,
   "id": "012e0efe-f48e-411e-8ed1-735613c65889",
   "metadata": {},
   "outputs": [],
   "source": [
    "sns.boxplot(data=df,x='sex',y='decile_score',hue='is_recid')"
   ]
  },
  {
   "cell_type": "code",
   "execution_count": null,
   "id": "74df37ae-c546-42c1-a46b-1d9a1d9fb22b",
   "metadata": {},
   "outputs": [],
   "source": [
    "plt.style.use('ggplot')"
   ]
  },
  {
   "cell_type": "code",
   "execution_count": null,
   "id": "4708f836-79bb-4a0b-89cd-11b7a80acc61",
   "metadata": {},
   "outputs": [],
   "source": [
    "# Single Index - compare categorical value with all continuous values with pivot tables\n",
    "table = pd.pivot_table(data=df,index=['sex'])\n",
    "table"
   ]
  },
  {
   "cell_type": "code",
   "execution_count": null,
   "id": "4d41474d-48cf-45f1-890a-494c1f5659b1",
   "metadata": {},
   "outputs": [],
   "source": [
    "#multiple indexes\n",
    "# Multiple  values with respect to all continuous values in the dataset\n",
    "table = pd.pivot_table(df,index=['sex','race'])\n",
    "table"
   ]
  },
  {
   "cell_type": "code",
   "execution_count": null,
   "id": "9273467b-d901-40ef-8fef-62d0485c8305",
   "metadata": {},
   "outputs": [],
   "source": [
    "table = pd.pivot_table(df,index=['sex','race','is_recid'])\n",
    "table"
   ]
  },
  {
   "cell_type": "code",
   "execution_count": null,
   "id": "5180e03c-22fa-4178-aa9b-dfe10a9d7643",
   "metadata": {},
   "outputs": [],
   "source": [
    "#different aggregate functions\n",
    "table = pd.pivot_table(df,index=['sex','race'],aggfunc={'age':np.mean,'is_recid':np.mean,'is_violent_recid':np.sum})\n",
    "table"
   ]
  },
  {
   "cell_type": "code",
   "execution_count": null,
   "id": "cecdfd8b-65ce-441e-90d7-ce8582dedcc7",
   "metadata": {},
   "outputs": [],
   "source": [
    "# Aggregate on specific features with values parameter\n",
    "table = pd.pivot_table(df,index=['sex','race'],values=['is_recid'], aggfunc=np.mean)\n",
    "table"
   ]
  },
  {
   "cell_type": "code",
   "execution_count": null,
   "id": "d3dd433d-c0ce-4576-bdd9-e42c51bd8e7d",
   "metadata": {},
   "outputs": [],
   "source": [
    "table.plot(kind='bar');"
   ]
  },
  {
   "cell_type": "code",
   "execution_count": null,
   "id": "83134c0f-d4c1-4e38-a399-f4cfd5a03f6a",
   "metadata": {},
   "outputs": [],
   "source": [
    "#columns\n",
    "# Find the relationship between features with columns parameter\n",
    "\n",
    "table = pd.pivot_table(df,index=['sex'],columns=['race'],values=['is_recid'],aggfunc=np.sum)\n",
    "table"
   ]
  },
  {
   "cell_type": "code",
   "execution_count": null,
   "id": "f0ce4ae7-3c44-4c5a-928d-fc4c6b0b3434",
   "metadata": {},
   "outputs": [],
   "source": [
    "table = pd.pivot_table(df,index=['sex'],columns=['race'],values=['is_recid'],aggfunc=np.mean)\n",
    "table"
   ]
  },
  {
   "cell_type": "code",
   "execution_count": null,
   "id": "55d2df19-4d38-484e-8f79-60bc8478c88d",
   "metadata": {},
   "outputs": [],
   "source": [
    "table.plot(kind='bar');"
   ]
  },
  {
   "cell_type": "code",
   "execution_count": null,
   "id": "63185709-3d9b-4da9-ba3d-c2d490a24fc1",
   "metadata": {},
   "outputs": [],
   "source": [
    "# Aggregate on specific features with values parameter\n",
    "table = pd.pivot_table(df,index=['race','is_recid'],dropna=False)\n",
    "table"
   ]
  },
  {
   "cell_type": "code",
   "execution_count": null,
   "id": "79cce3ee-ca5b-4e71-99a8-2518eb95600d",
   "metadata": {},
   "outputs": [],
   "source": [
    "table = df.pivot_table(index=['race','is_recid'], \n",
    "               columns='prediction',\n",
    "               aggfunc='size',\n",
    "               fill_value=0,)\n",
    "table"
   ]
  },
  {
   "cell_type": "code",
   "execution_count": null,
   "id": "29423bda-7e93-4cb5-a82b-26563a5699bb",
   "metadata": {},
   "outputs": [],
   "source": [
    "table = df.pivot_table(index=['race','is_recid'], \n",
    "               columns='prediction',\n",
    "               aggfunc='var',\n",
    "               fill_value=0,)\n",
    "table"
   ]
  },
  {
   "cell_type": "code",
   "execution_count": null,
   "id": "ab1cc7ed-b497-4eda-ada7-acb43826afae",
   "metadata": {},
   "outputs": [],
   "source": [
    "aggfuncs = [ 'count', 'sum', 'sem', 'skew', 'mean', 'min', 'max', 'std', 'quantile', 'nunique', 'mad', 'size', pd.Series.mode, 'var', 'unique']\n",
    "df.groupby('prediction', dropna=False)['age'].agg(aggfuncs)"
   ]
  },
  {
   "cell_type": "code",
   "execution_count": null,
   "id": "7aa3d49b-d3d0-4656-add0-e872347352b4",
   "metadata": {},
   "outputs": [],
   "source": [
    "table = df.pivot_table(index=['race','is_recid'], \n",
    "               columns='prediction',\n",
    "               aggfunc='size',\n",
    "               fill_value=0,\n",
    "                      margins_name='All',)\n",
    "table"
   ]
  },
  {
   "cell_type": "code",
   "execution_count": null,
   "id": "78c6793e-8046-4e9a-86c4-9d0e7a3cabb2",
   "metadata": {},
   "outputs": [],
   "source": [
    "table = df.pivot_table(index=['race','is_recid'], \n",
    "               columns='prediction',\n",
    "               aggfunc='mean',)\n",
    "table"
   ]
  },
  {
   "cell_type": "code",
   "execution_count": null,
   "id": "076f0bbe-7236-4c3c-bd9a-07c9f9298ed9",
   "metadata": {},
   "outputs": [],
   "source": [
    "table = pd.pivot_table(df, values=['is_recid'], index=['race', 'prediction'],\n",
    "                    aggfunc={'is_recid': [sum,np.mean]})\n",
    "table"
   ]
  },
  {
   "cell_type": "code",
   "execution_count": null,
   "id": "f87b4835-35cc-4e4f-835c-fb3f0f2519cf",
   "metadata": {},
   "outputs": [],
   "source": [
    "df[\"prediction\"] = pd.Categorical(df[\"prediction\"], categories=[\"High\", \"Medium\", \"Low\"])\n",
    "pd.pivot_table(df, index=['race', 'prediction'], columns=\"prediction\", dropna=False)\n"
   ]
  },
  {
   "cell_type": "markdown",
   "id": "be13fa34-99f2-4315-813c-6f1e579b4c0d",
   "metadata": {},
   "source": [
    "Creating a Multi-Index Pandas Crosstab\n",
    "You can add multiple indices (rows) to a crosstab as well. This can be done by passing a list of variables to the crosstab function.\n",
    "\n",
    "Say you wanted to break items down by race and is_recid (the rows) --- and columns having prediction"
   ]
  },
  {
   "cell_type": "code",
   "execution_count": null,
   "id": "521b684b-46fb-4cb7-9063-aaf966762998",
   "metadata": {},
   "outputs": [],
   "source": [
    "# Use the Crosstab for multivariate\n",
    "pd.crosstab([df.race, df.is_recid], df.prediction)"
   ]
  },
  {
   "cell_type": "markdown",
   "id": "b560538b-ec30-45b8-be06-754d5f6ff646",
   "metadata": {},
   "source": [
    "You can change the names of the labels. Let’s change them to better reflect that the data represents"
   ]
  },
  {
   "cell_type": "code",
   "execution_count": null,
   "id": "8ce1919f-b4f3-44da-822a-fc87f571eb6d",
   "metadata": {},
   "outputs": [],
   "source": [
    "pd.crosstab([df.race, df.is_recid], df.prediction,rownames=['RACE', 'Reoffend?'])"
   ]
  },
  {
   "cell_type": "markdown",
   "id": "012838cd-1150-4fa6-af36-d8e17209fc6b",
   "metadata": {},
   "source": [
    "Similar to adding multiple rows, you can also add multiple columns. Let’s repeat the example above and break the data out by"
   ]
  },
  {
   "cell_type": "code",
   "execution_count": null,
   "id": "98d90227-5fb1-4118-a14b-203b09f12f29",
   "metadata": {},
   "outputs": [],
   "source": [
    "pd.crosstab([df.race, df.is_recid], df.prediction,rownames=['RACE', 'Reoffend?'], colnames=['COMPAS PREDICTION'])"
   ]
  },
  {
   "cell_type": "code",
   "execution_count": null,
   "id": "10a90ae3-3462-444d-be37-ee31cc725be9",
   "metadata": {},
   "outputs": [],
   "source": [
    "pd.crosstab([df.race, df.is_recid], df.prediction,rownames=['RACE', 'Reoffend?'], colnames=['COMPAS PREDICTION'],margins=True, margins_name='Total')"
   ]
  },
  {
   "cell_type": "markdown",
   "id": "ca043969-2da6-46fa-9f6e-eddf52aee418",
   "metadata": {},
   "source": [
    "### Normalize a Pandas Crosstab for Row/Column Percentages \n",
    "A key benefit of the crosstab function over the Pandas Pivot Table function is that it allows you to normalize the resulting dataframe, returning values displayed as percentages.\n",
    " <br />\n",
    "This goes one step further – the normalize argument accepts a number of different options: <br />\n",
    " <br />\n",
    "‘all’ or True – normalizes the values across the entire dataframe (as a percentage of the total across rows and columns) <br />\n",
    "‘index’ – normalizes across rows <br />\n",
    "‘columns’ – normalizes down columns <br />\n",
    "If the margins argument is set to True, the totals will also be normalized. <br />\n",
    "\n",
    "It is usually best to normalize the index until you are confident you can interpret the others"
   ]
  },
  {
   "cell_type": "code",
   "execution_count": null,
   "id": "93049bb6-0bd3-4eaf-8c41-68ef8f33cc6f",
   "metadata": {},
   "outputs": [],
   "source": [
    "pd.crosstab([df.race, df.is_recid], df.prediction,normalize='index')"
   ]
  },
  {
   "cell_type": "code",
   "execution_count": null,
   "id": "87f95341-3666-4f4d-9369-a876970ce8ed",
   "metadata": {},
   "outputs": [],
   "source": [
    "pd.crosstab([df.race, df.is_recid], df.prediction,normalize='columns')"
   ]
  },
  {
   "cell_type": "code",
   "execution_count": null,
   "id": "d767b3cc-a92c-4a65-bbad-492adb4dd34e",
   "metadata": {},
   "outputs": [],
   "source": [
    "pd.crosstab([df.race, df.is_recid], df.prediction,normalize='all')"
   ]
  },
  {
   "cell_type": "code",
   "execution_count": null,
   "id": "9dd25ff3-0bed-4614-8a12-061b0dba46db",
   "metadata": {},
   "outputs": [],
   "source": [
    "pd.crosstab([df.race, df.is_recid], df.prediction,normalize='all',margins=True, margins_name='Total')"
   ]
  },
  {
   "cell_type": "code",
   "execution_count": null,
   "id": "dfc65b6e-f57a-4996-a9f8-8d6ff19cdde0",
   "metadata": {},
   "outputs": [],
   "source": [
    "# African American v. All other sub-groups\n",
    "pd.crosstab([df.race==\"African-American\", df.is_recid], df.prediction,normalize='index')"
   ]
  },
  {
   "cell_type": "code",
   "execution_count": null,
   "id": "00b7e190-a879-4f3d-a1a1-2ccae9089fa7",
   "metadata": {},
   "outputs": [],
   "source": [
    "pd.crosstab([df.race==\"Caucasian\", df.is_recid], df.prediction,normalize='index')"
   ]
  },
  {
   "cell_type": "markdown",
   "id": "5afd565b-1196-4125-87c6-71f192c82c26",
   "metadata": {},
   "source": [
    "Plotting your Multivariate"
   ]
  },
  {
   "cell_type": "code",
   "execution_count": null,
   "id": "da77e14b-b55a-4acd-90ef-de86951d02e0",
   "metadata": {},
   "outputs": [],
   "source": [
    "pd.crosstab([df.race, df.is_recid], df.prediction,normalize='index').plot.bar(stacked=True)"
   ]
  },
  {
   "cell_type": "code",
   "execution_count": null,
   "id": "a05f97f6-ed11-4071-a526-38bd2b5100a5",
   "metadata": {},
   "outputs": [],
   "source": [
    "pd.crosstab([df.race, df.is_recid], df.prediction,normalize='index').plot.bar()"
   ]
  },
  {
   "cell_type": "code",
   "execution_count": null,
   "id": "1dafcbea-b794-46c3-8101-5039a05d7082",
   "metadata": {},
   "outputs": [],
   "source": []
  },
  {
   "cell_type": "code",
   "execution_count": null,
   "id": "7fbcc568-b73c-48be-beb2-ca1e33971c5b",
   "metadata": {},
   "outputs": [],
   "source": [
    "pd.crosstab([df.race, df.sex, df.is_recid], df.prediction,normalize='index')"
   ]
  },
  {
   "cell_type": "markdown",
   "id": "d15122cb-26ff-4b01-a892-457630c58694",
   "metadata": {},
   "source": [
    "# Automated EDA Tooling"
   ]
  },
  {
   "cell_type": "code",
   "execution_count": null,
   "id": "896ccf06-2562-4949-9772-fc91c7b1724e",
   "metadata": {},
   "outputs": [],
   "source": [
    "#Installing the library\n",
    "!pip install dataprep\n",
    "#Importing \n",
    "from dataprep.eda import create_report\n",
    "#Creating report\n",
    "create_report(df)"
   ]
  },
  {
   "cell_type": "code",
   "execution_count": null,
   "id": "7275557a-c622-4ecb-b5c8-45ab996c92f1",
   "metadata": {},
   "outputs": [],
   "source": [
    "!pip install skimpy"
   ]
  },
  {
   "cell_type": "code",
   "execution_count": null,
   "id": "a8082f27-7834-41eb-9863-ced19ee6ca89",
   "metadata": {},
   "outputs": [],
   "source": [
    "from skimpy import skim\n",
    "skim(df)"
   ]
  },
  {
   "cell_type": "code",
   "execution_count": null,
   "id": "5cc7928e-19b8-4bf2-96b9-758ceb7456bd",
   "metadata": {},
   "outputs": [],
   "source": [
    "#Installing the library \n",
    "!pip install sweetviz\n",
    "#Importing the library \n",
    "import sweetviz as sv\n",
    "report = sv.analyze(df)\n",
    "report.show_html()"
   ]
  },
  {
   "cell_type": "code",
   "execution_count": null,
   "id": "a832ac49-eb19-429f-a783-f6eff666d9b4",
   "metadata": {},
   "outputs": [],
   "source": [
    "# Spliting data set into training and testing set\n",
    "training_data = df.sample(frac=0.8, random_state=25)\n",
    "testing_data = df.drop(training_data.index)\n",
    "#Applying compare function\n",
    "report2 = sv.compare([training_data,\"TRAINING SET\"], [testing_data, \"TESTING SET\"])\n",
    "report2.show_html()"
   ]
  },
  {
   "cell_type": "code",
   "execution_count": null,
   "id": "69a21ff0-7d8d-44c4-841c-9b13b0d08494",
   "metadata": {},
   "outputs": [],
   "source": [
    "report3 = sv.compare_intra(df, df[\"color\"] == \"D\", [\"D\", \"The rest\"])\n",
    "report3.show_html()"
   ]
  }
 ],
 "metadata": {
  "kernelspec": {
   "display_name": "Python 3 (ipykernel)",
   "language": "python",
   "name": "python3"
  },
  "language_info": {
   "codemirror_mode": {
    "name": "ipython",
    "version": 3
   },
   "file_extension": ".py",
   "mimetype": "text/x-python",
   "name": "python",
   "nbconvert_exporter": "python",
   "pygments_lexer": "ipython3",
   "version": "3.7.12"
  }
 },
 "nbformat": 4,
 "nbformat_minor": 5
}
