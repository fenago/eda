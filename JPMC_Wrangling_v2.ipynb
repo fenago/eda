{
 "cells": [
  {
   "cell_type": "markdown",
   "metadata": {},
   "source": [
    "# Advanced Exploratory Data Analysis (EDA) in Python <br />  <hr style=\"border:4.5px solid #108999\"> </hr>\n",
    "\n",
    "This is my notebook on an example pipeline of EDA in Python.\n",
    "\n",
    "## How to quickly get a handle on almost any tabular dataset\n",
    "\n",
    "Becoming inherently familiar with a new dataset can be challenging and time consuming. However, an in-depth and broad exploratory data analysis (EDA) can help a lot to understand your dataset, get a feeling for how things are connected and what needs to be done to properly process your dataset.\n",
    "\n",
    "This NB will explore multiple useful EDA routines. However, to keep things short and compact it might not always dig deeper or explain all of the implications. But, spending enough time on a proper EDA to fully understand a dataset is a key part of any good data science project.\n",
    "\n",
    ">> As a rule of thumb, you probably will spend 80% of your time in data preparation and exploration and only 20% in actual machine learning modeling.\n"
   ]
  },
  {
   "cell_type": "markdown",
   "metadata": {},
   "source": [
    "I will be using an opnsource dataset - load the [road safety dataset](https://www.openml.org/d/42803) from [OpenML](https://www.openml.org/search?type=data)."
   ]
  },
  {
   "cell_type": "markdown",
   "metadata": {},
   "source": [
    "## Investigation of structure, quality and content\n",
    "\n",
    "Overall, the EDA approach is very iterative. At the end of your investigation you might discover something that will require you to redo everything once more. That is normal! But to impose at least a little bit of structure, I propose the following structure for your investigations:\n",
    "\n",
    "1. **Structure investigation**: Exploring the general shape of the dataset, as well as the data types of your features.\n",
    "2. **Quality investigation**: Get a feeling for the general quality of the dataset, with regards to duplicates, missing values and unwanted entries.\n",
    "3. **Content investigation**: Once the structure and quality of the dataset is understood, we can go ahead and perform a more in-depth exploration on the features values and look at how different features relate to each other."
   ]
  },
  {
   "cell_type": "markdown",
   "metadata": {},
   "source": [
    "## Outline\n",
    "___"
   ]
  },
  {
   "cell_type": "markdown",
   "metadata": {},
   "source": [
    "1. [Import Python Libraries](#t1.) \n",
    "2. [Get the Data](#t2.) \n",
    "3. [Structure Investigation](#t3.)\n",
    "    * 3.1. [Structure of *non-numerical* features](#t3.1.) \n",
    "    * 3.2. [Structure of *numerical* features](#t3.2.)\n",
    "    * 3.3. [Conclusion of structure investigation](#t3.3.)  \n",
    "4. [Quality Investigation](#t4.)\n",
    "    * 4.1. [Duplicates](#t4.1.)\n",
    "    * 4.2. [Missing Values](#t4.2.)\n",
    "        * 4.2.1 [Per Sample](#t4.2.1.)\n",
    "        * 4.2.2 [Per Feature](#t4.2.2.)\n",
    "        * 4.2.3 [Side Note](#t4.2.3.)\n",
    "    * 4.3. [Unwanted entries and recording errors](#t4.3.)\n",
    "        * 4.3.1 [Numerical Features](#t4.3.1.)\n",
    "        * 4.3.2 [Non-Numerical Features](#t4.3.2.)\n",
    "    * 4.4. [Conclusion of quality investigation](#t4.4.)\n",
    "5. [Content Investigation](#t5.)\n",
    "    * 5.1. [Feature Distribution](#t5.1.)\n",
    "    * 5.2. [Feature Patterns](#t5.2.)\n",
    "       * 5.2.1 [Continuous Features](#t5.2.1.)\n",
    "       * 5.2.2 [Discrete and Ordinal Features](#t5.2.2.)\n",
    "    * 5.3. [Feature Relationships](#t5.3.)\n",
    "    * 5.4. [Conclusion of content investigation](#t5.4.)\n",
    "6. [Take Home Message](#t6.)"
   ]
  },
  {
   "cell_type": "markdown",
   "metadata": {},
   "source": [
    "<a id=\"t1.\"></a>\n",
    "## 1. Import Libraries"
   ]
  },
  {
   "cell_type": "code",
   "execution_count": null,
   "metadata": {},
   "outputs": [],
   "source": [
    "import pandas as pd\n",
    "import numpy as np\n",
    "import scipy.stats as stats\n",
    "import matplotlib.pyplot as plt\n",
    "import seaborn as sns\n",
    "from sklearn.model_selection import train_test_split\n",
    "from sklearn.linear_model import LogisticRegression\n",
    "from sklearn.metrics import classification_report\n",
    "\n",
    "%matplotlib inline"
   ]
  },
  {
   "cell_type": "markdown",
   "metadata": {},
   "source": [
    "<a id=\"t2.\"></a>\n",
    "## 2. Get the Data"
   ]
  },
  {
   "cell_type": "code",
   "execution_count": null,
   "metadata": {},
   "outputs": [],
   "source": [
    "import ssl\n",
    "ssl._create_default_https_context = ssl._create_unverified_context\n",
    "\n",
    "import certifi"
   ]
  },
  {
   "cell_type": "code",
   "execution_count": null,
   "metadata": {},
   "outputs": [],
   "source": [
    "from sklearn.datasets import fetch_openml\n",
    "\n",
    "# Download the dataset from openml\n",
    "dataset = fetch_openml(data_id=42803, as_frame=True)"
   ]
  },
  {
   "cell_type": "code",
   "execution_count": null,
   "metadata": {},
   "outputs": [],
   "source": [
    "# Extract feature matrix X and show 5 random samples\n",
    "df_X = dataset[\"frame\"]\n",
    "df_X.sample(5)"
   ]
  },
  {
   "cell_type": "markdown",
   "metadata": {},
   "source": [
    "<a id=\"t3.\"></a>\n",
    "## 3. Structure Investigation\n",
    "\n",
    "Before looking at the content of our feature matrix $X$, let's first look at the general structure of the dataset. For example, how many columns and rows does the dataset have?"
   ]
  },
  {
   "cell_type": "code",
   "execution_count": null,
   "metadata": {},
   "outputs": [],
   "source": [
    "# Show size of the dataset\n",
    "df_X.shape"
   ]
  },
  {
   "cell_type": "markdown",
   "metadata": {},
   "source": [
    "So we know that this dataset has 363'243 samples and 67 features. And how many different data types do these 67 features contain?"
   ]
  },
  {
   "cell_type": "code",
   "execution_count": null,
   "metadata": {},
   "outputs": [],
   "source": [
    "# Count how many times each data type is present in the dataset\n",
    "pd.value_counts(df_X.dtypes)"
   ]
  },
  {
   "cell_type": "markdown",
   "metadata": {},
   "source": [
    "<a id=\"t3.1.\"></a>\n",
    "### 3.1.    Structure of non-numerical features\n",
    "\n",
    "First, inspect the **non-numerical** entries."
   ]
  },
  {
   "cell_type": "code",
   "execution_count": null,
   "metadata": {},
   "outputs": [],
   "source": [
    "# Display non-numerical features\n",
    "df_X.select_dtypes(exclude=\"number\").head()"
   ]
  },
  {
   "cell_type": "markdown",
   "metadata": {},
   "source": [
    "Even though `Sex_of_Driver` is a numerical feature, it somehow was stored as a non-numerical one. This is sometimes due to some typo in data recording. So let's take care of that:"
   ]
  },
  {
   "cell_type": "code",
   "execution_count": null,
   "metadata": {},
   "outputs": [],
   "source": [
    "# Chnage data type of 'sex_of_Driver'\n",
    "df_X['Sex_of_Driver'] = df_X['Sex_of_Driver'].astype('float')"
   ]
  },
  {
   "cell_type": "markdown",
   "metadata": {},
   "source": [
    "Using the `.describe()` function we can also investigate how many unique values each non-numerical feature has and with which frequency the most prominent value is present."
   ]
  },
  {
   "cell_type": "code",
   "execution_count": null,
   "metadata": {},
   "outputs": [],
   "source": [
    "df_X.describe(exclude='number')"
   ]
  },
  {
   "cell_type": "markdown",
   "metadata": {},
   "source": [
    "> When you pass exclude=\"number\" to df.describe, pandas excludes all the columns in the dataframe whose data types are subclasses of numpy.number \n",
    "\n",
    "> only the non-numeric columns remain in the dataframe. This is useful when you want to see only the categorical variables' summary\n"
   ]
  },
  {
   "cell_type": "markdown",
   "metadata": {},
   "source": [
    "<a id=\"t3.2.\"></a>\n",
    "### 3.2.    Structure of numerical features\n",
    "\n",
    "Next, take a closer look at the numerical features. More precisely, investigate how many unique values each of these feature has. This process will give some insights about the number of **binary** (2 unique values), **ordinal** (3 to ~10 unique values) and **continuous** (more than 10 unique values) features in the dataset."
   ]
  },
  {
   "cell_type": "code",
   "execution_count": null,
   "metadata": {},
   "outputs": [],
   "source": [
    "# For each numerical feature compute number of unique entries\n",
    "unique_values = df_X.select_dtypes(include='number').nunique().sort_values()"
   ]
  },
  {
   "cell_type": "code",
   "execution_count": null,
   "metadata": {},
   "outputs": [],
   "source": [
    "plt.figure(figsize=(15, 4))\n",
    "sns.set_style('whitegrid')\n",
    "\n",
    "g = sns.barplot(x=unique_values.index, y=unique_values, palette='inferno')\n",
    "g.set_yscale(\"log\")\n",
    "g.set_xticklabels(g.get_xticklabels(), rotation=45, horizontalalignment='right')\n",
    "g.set_title('Unique values per frequency')\n",
    "plt.show()"
   ]
  },
  {
   "cell_type": "markdown",
   "metadata": {},
   "source": [
    "<a id=\"t3.3.\"></a>\n",
    "### 3.3.    Conclusion of structure investigation\n",
    "\n",
    "At the end of this first investigation, we should have a better understanding of the general structure of our dataset. Number of samples and features, what kind of data type each feature has, and how many of them are binary, ordinal, categorical or continuous. For an alternative way to get such kind of information you could also use `df_X.info()` or `df_X.describe()`."
   ]
  },
  {
   "cell_type": "markdown",
   "metadata": {},
   "source": [
    "<a id=\"t4.\"></a>\n",
    "## 4. Quality Investigation\n",
    "\n",
    "Before focusing on the actual content stored in these features, let's first take a look at the general quality of the dataset. The goal is to have a global view on the dataset with regards to things like duplicates, missing values and unwanted entries or recording errors."
   ]
  },
  {
   "cell_type": "markdown",
   "metadata": {},
   "source": [
    "<a id=\"t4.1.\"></a>\n",
    "### 4.1.    Duplicates\n",
    "\n",
    "Duplicates are entries that represent the same sample point multiple times. For example, if a measurement was registered twice by two different people. Detecting such duplicates is not always easy, as each dataset might have a unique identifier (e.g. an index number or recording time that is unique to each new sample) which you might want to ignore first."
   ]
  },
  {
   "cell_type": "code",
   "execution_count": null,
   "metadata": {},
   "outputs": [],
   "source": [
    "# Check number of duplicates while ignoring the index feature\n",
    "n_duplicates = df_X.drop(labels=['Accident_Index'], axis=1).duplicated().sum()\n",
    "\n",
    "print(f\"You seem to have {n_duplicates} duplicates in your database.\")"
   ]
  },
  {
   "cell_type": "markdown",
   "metadata": {},
   "source": [
    "To handle these duplicates you can just simply drop them with `.drop_duplicates()`."
   ]
  },
  {
   "cell_type": "code",
   "execution_count": null,
   "metadata": {},
   "outputs": [],
   "source": [
    "#  Extract column names of all features, except 'Accident_Index'\n",
    "columns_to_consider = df_X.drop(labels=['Accident_Index'], axis=1).columns\n",
    "\n",
    "# Drop duplicates based on 'columns_to_consider'\n",
    "df_X.drop_duplicates(subset=columns_to_consider, inplace=True)\n",
    "df_X.shape"
   ]
  },
  {
   "cell_type": "markdown",
   "metadata": {},
   "source": [
    "<a id=\"t4.2.\"></a>\n",
    "### 4.2.    Missing Values\n",
    "\n",
    "Another quality issue worth to investigate are missing values. Having some missing values is normal. What we want to identify at this stage are big holes in the dataset, i.e. samples or features with a lot of missing values."
   ]
  },
  {
   "cell_type": "markdown",
   "metadata": {},
   "source": [
    "<a id=\"t4.2.1.\"></a>\n",
    "### 4.2.1.    Per Sample\n",
    "\n",
    "To look at number of missing values per sample we have multiple options. The most straight forward one is to simply visualize the output of `df_X.isna()`, with something like this:"
   ]
  },
  {
   "cell_type": "code",
   "execution_count": null,
   "metadata": {},
   "outputs": [],
   "source": [
    "plt.figure(figsize=(15, 4))\n",
    "sns.set_style('whitegrid')\n",
    "\n",
    "g = sns.barplot(x=unique_values.index, y=unique_values, palette='inferno')\n",
    "g.set_yscale(\"log\")\n",
    "g.set_xticklabels(g.get_xticklabels(), rotation=45, horizontalalignment='right')\n",
    "g.set_title('Unique values per frequency')\n",
    "plt.show()"
   ]
  },
  {
   "cell_type": "markdown",
   "metadata": {},
   "source": [
    "This figure shows on the y-axis each of the 360'000 individual samples, and on the x-axis if any of the 67 features contains a missing value. While this is already a useful plot, an even better approach is to sort the missing values"
   ]
  },
  {
   "cell_type": "code",
   "execution_count": null,
   "metadata": {},
   "outputs": [],
   "source": [
    "plt.figure(figsize=(15, 8))\n",
    "sns.set_style('whitegrid')\n",
    "\n",
    "g = sns.heatmap(df_X.isnull(), cbar=False, cmap='viridis')\n",
    "# g = sns.heatmap(df_X.loc[df_X.isnull().sum(1).sort_values(ascending=1).index].isnull(), cbar=False, cmap='viridis')\n",
    "g.set_xlabel('Column Number')\n",
    "g.set_ylabel('Sample Number')"
   ]
  },
  {
   "cell_type": "markdown",
   "metadata": {},
   "source": [
    "This figure shows on the y-axis each of the 360'000 individual samples, and on the x-axis if any of the 67 features contains a missing value. While this is already a useful plot, an even better approach is to use the [missingno](https://github.com/ResidentMario/missingno) library, to get a plot like this one:"
   ]
  },
  {
   "cell_type": "code",
   "execution_count": null,
   "metadata": {},
   "outputs": [],
   "source": [
    "!pip install missingno"
   ]
  },
  {
   "cell_type": "code",
   "execution_count": null,
   "metadata": {},
   "outputs": [],
   "source": [
    "import missingno as msno"
   ]
  },
  {
   "cell_type": "code",
   "execution_count": null,
   "metadata": {},
   "outputs": [],
   "source": [
    "msno.matrix(df_X, labels=True, sort='descending', color=(0.27, 0.52, 1.0));"
   ]
  },
  {
   "cell_type": "code",
   "execution_count": null,
   "metadata": {},
   "outputs": [],
   "source": [
    "# g = msno.bar(df_X, labels=True, color=\"dodgerblue\", sort=\"ascending\", figsize=(10,5), fontsize=12)\n",
    "# g.set_xticklabels(g.get_xticklabels(),rotation=90);\n"
   ]
  },
  {
   "cell_type": "markdown",
   "metadata": {},
   "source": [
    " We can see that the dataset has a huge whole, caused by some samples where more than 50% of the feature values are missing. For those samples, filling the missing values with some replacement values is probably not a good idea.\n",
    "\n",
    "Therefore, let's go ahead and drop samples that have more than 20% of missing values. The threshold is inspired by the information from the 'Data Completeness' column on the right of this figure."
   ]
  },
  {
   "cell_type": "code",
   "execution_count": null,
   "metadata": {},
   "outputs": [],
   "source": [
    "df_X = df_X.dropna(thresh=df_X.shape[1] * 0.80, axis=0).reset_index(drop=True)\n",
    "df_X.shape"
   ]
  },
  {
   "cell_type": "markdown",
   "metadata": {},
   "source": [
    "<a id=\"t4.2.2.\"></a>\n",
    "### 4.2.2.    Per Feature\n",
    "\n",
    "As a next step, let's now look at the number of missing values per feature. For this we can use some `pandas` trickery to quickly identify the ratio of missing values **per feature**."
   ]
  },
  {
   "cell_type": "code",
   "execution_count": null,
   "metadata": {},
   "outputs": [],
   "source": [
    "df_X.isna().mean().sort_values().plot(\n",
    "    kind=\"bar\", figsize=(15, 4),\n",
    "    title=\"Percentage of missing values per feature\",\n",
    "    ylabel=\"Ratio of missing values per feature\");"
   ]
  },
  {
   "cell_type": "markdown",
   "metadata": {},
   "source": [
    "From this figure we can see that most features don't contain any missing values. Nonetheless, features like `2nd_Road_Class`, `Junction_Control`, `Age_of_Vehicle` still contain quite a lot of missing values. So let's go ahead and remove any feature with more than 15% of missing values."
   ]
  },
  {
   "cell_type": "code",
   "execution_count": null,
   "metadata": {},
   "outputs": [],
   "source": [
    "df_X = df_X.dropna(thresh=df_X.shape[0] * 0.85, axis=1)\n",
    "df_X.shape"
   ]
  },
  {
   "cell_type": "markdown",
   "metadata": {},
   "source": [
    "<a id=\"t4.2.3.\"></a>\n",
    "### 4.2.3.    Side Note\n",
    "\n",
    "**Missing values**: There is no strict order in removing missing values. For some datasets, tackling\n",
    "first the features and than the samples might be better. Furthermore, the threshold at which you decide\n",
    "to drop missing values per feature or sample changes from dataset to dataset, and depends on what you\n",
    "intend to do with the dataset later on.\n",
    "\n",
    "**Also**, until now we only addressed the big holes in the dataset, not yet how we would fill the smaller gaps.\n",
    "This is content for another post."
   ]
  },
  {
   "cell_type": "markdown",
   "metadata": {},
   "source": [
    "<a id=\"t4.3.\"></a>\n",
    "### 4.3.    Unwanted entries and recording errors\n",
    "\n",
    "nother source of quality issues in a dataset can be due to unwanted entries or recording errors. It's important to distinguish such samples from simple outliers. While outliers are data points that are unusual for a given feature distribution, **unwanted entries or recording errors are samples that shouldn't be there in the first place**.\n",
    "\n",
    "For example, a temperature recording of 45°C in Switzerland might be an outlier (as in 'very unusual'), while a recording at 90°C would be an error. Similarly, a temperature recording from the top of Mont Blanc might be physical possible, but most likely shouldn't be included in a dataset about Swiss cities.\n",
    "\n",
    "Of course, detecting such errors and unwanted entries and distinguishing them from outliers is not always straight forward and depends highly on the dataset. One approach to this is to take a global view on the dataset and see if you can identify some very unusual patterns."
   ]
  },
  {
   "cell_type": "markdown",
   "metadata": {},
   "source": [
    "<a id=\"t4.3.1.\"></a>\n",
    "### 4.3.1.    Numerical Features\n",
    "\n",
    "To plot this global view of the dataset, at least for the numerical features, you can use pandas' `.plot()` function and combine it with the following parameters:\n",
    "\n",
    "- `lw=0`: `lw` stands for line width. `0` means that we don't want to show any lines\n",
    "- `marker=\".\"`: Instead of lines, we tell the plot to use `.` as markers for each data point\n",
    "- `subplots=True`: `subplots` tells `pandas` to plot each feature in a separate subplot\n",
    "- `layout=(-1, 4)`: This parameter tells `pandas` how many rows and columns to use for the subplots. The `-1` means \"as many as needed\", while the `2` means to use 2 columns per row.\n",
    "- `figsize=(15, 30), markersize=1`: To make sure that the figure is big enough we recommend to have a figure height of roughly the number of features, and to adjust the `markersize` accordingly."
   ]
  },
  {
   "cell_type": "code",
   "execution_count": null,
   "metadata": {},
   "outputs": [],
   "source": [
    "df_X.plot(lw=0, marker=\".\", subplots=True, layout=(-1, 4),\n",
    "          figsize=(15, 30), markersize=1);"
   ]
  },
  {
   "cell_type": "markdown",
   "metadata": {},
   "source": [
    "Each point in this figure is a sample (i.e. a row) in our dataset and each subplot represents a different feature. The y-axis shows the feature value, while the x-axis is the sample index. These kind of plots can give you a lot of ideas for data cleaning and EDA. Usually it makes sense to invest as much time as needed until your happy with the output of this visualization."
   ]
  },
  {
   "cell_type": "markdown",
   "metadata": {},
   "source": [
    "<a id=\"t4.3.2.\"></a>\n",
    "### 4.3.2.    Non-numerical features\n",
    "\n",
    "Identifying **unwanted entries** or **recording errors** on non-numerical features is a bit more tricky. Given that at this point, we only want to investigate the general quality of the dataset. So what we can do is take a general look at how many unique values each of these non-numerical features contain, and how often their most frequent category is represented."
   ]
  },
  {
   "cell_type": "code",
   "execution_count": null,
   "metadata": {},
   "outputs": [],
   "source": [
    "# Extract descriptive properties of non-numerical features\n",
    "df_X.describe(exclude=[\"number\", \"datetime\"])"
   ]
  },
  {
   "cell_type": "markdown",
   "metadata": {},
   "source": [
    "There are multiple ways for how you could potentially streamline the quality investigation for each individual non-numerical features. None of them is perfect, and all of them will require some follow up investigation. But for the purpose of showcasing one such a solution, what we could do is loop through all non-numerical features and plot for each of them the number of occurrences per unique value. "
   ]
  },
  {
   "cell_type": "code",
   "execution_count": null,
   "metadata": {},
   "outputs": [],
   "source": [
    "# Create figure object with 3 subplots\n",
    "fig, axes = plt.subplots(ncols=1, nrows=3, figsize=(12, 8))\n",
    "\n",
    "# Identify non-numerical features\n",
    "df_non_numerical = df_X.select_dtypes(exclude=[\"number\", \"datetime\"])\n",
    "\n",
    "# Loop through features and put each subplot on a matplotlib axis object\n",
    "for col, ax in zip(df_non_numerical.columns, axes.ravel()):\n",
    "\n",
    "    # Selects one single feature and counts number of occurrences per unique value\n",
    "    df_non_numerical[col].value_counts().plot(\n",
    "\n",
    "        # Plots this information in a figure with log-scaled y-axis\n",
    "        logy=True, title=col, lw=0, marker=\".\", ax=ax)\n",
    "    \n",
    "plt.tight_layout();"
   ]
  },
  {
   "cell_type": "markdown",
   "metadata": {},
   "source": [
    "We can see that the most frequent accident (i.e. `Accident_Index`), had more than 100 people involved. Digging a bit deeper (i.e. looking at the individual features of this accident), we could identify that this accident happened on February 24th, 2015 at 11:55 in Cardiff UK. A quick internet search reveals that this entry corresponds to a luckily non-lethal accident including a minibus full of pensioners.\n",
    "\n",
    "The decision for what should be done with such rather unique entries is once more left in the the subjective hands of the person analyzing the dataset. Without any good justification for WHY, and only with the intention to show you the HOW - let's go ahead and remove the 10 most frequent accidents from this dataset."
   ]
  },
  {
   "cell_type": "code",
   "execution_count": null,
   "metadata": {},
   "outputs": [],
   "source": [
    "# Collect entry values of the 10 most frequent accidents\n",
    "accident_ids = df_non_numerical[\"Accident_Index\"].value_counts().head(10).index\n",
    "\n",
    "# Removes accidents from the 'accident_ids' list\n",
    "df_X = df_X[~df_X[\"Accident_Index\"].isin(accident_ids)]\n",
    "df_X.shape"
   ]
  },
  {
   "cell_type": "markdown",
   "metadata": {},
   "source": [
    "<a id=\"t4.4.\"></a>\n",
    "### 4.4.   Conclusion of quality investigation\n",
    "\n",
    "At the end of this second investigation, we should have a better understanding of the general quality of our dataset. We looked at duplicates, missing values and unwanted entries or recording errors. It is important to point out that we didn't discuss yet how to address the remaining missing values or outliers in the dataset. This is a task for the next investigation, but won't be covered in this Notebook."
   ]
  },
  {
   "cell_type": "markdown",
   "metadata": {},
   "source": [
    "<a id=\"t4.\"></a>\n",
    "## 5.   Content Investigation\n",
    "\n",
    "Up until now we only looked at the general structure and quality of the dataset. Let's now go a step further and take a look at the actual content. In an ideal setting, such an investigation would be done feature by feature. But this becomes very cumbersome once you have more than 20-30 features.\n",
    "\n",
    "For this reason (and to keep this NB as short for demonstration purposes) I'll will explore three different approaches that can give you a very quick overview of the content stored in each feature and how they relate."
   ]
  },
  {
   "cell_type": "markdown",
   "metadata": {},
   "source": [
    "<a id=\"t5.1.\"></a>\n",
    "### 5.1.   Feature distribution\n",
    "\n",
    "Looking at the value distribution of each feature is a great way to better understand the content of your data. Furthermore, it can help to guide your EDA, and provides a lot of useful information with regards to data cleaning and feature transformation. The quickest way to do this for numerical features is using histogram plots. Luckily, `pandas` comes with a builtin histogram function that allows the plotting of multiple features at once."
   ]
  },
  {
   "cell_type": "code",
   "execution_count": null,
   "metadata": {},
   "outputs": [],
   "source": [
    "# Plots the histogram for each numerical feature in a separate subplot\n",
    "df_X.hist(bins=25, figsize=(15, 25), layout=(-1, 5), edgecolor=\"black\")\n",
    "plt.tight_layout();"
   ]
  },
  {
   "cell_type": "markdown",
   "metadata": {},
   "source": [
    "There are a lot of very interesting things visible in this plot. For example...\n",
    "\n",
    "**Most frequent entry**: Some features, such as `Towing_and_Articulation` or `Was_Vehicle_Left_Hand_Drive?` mostly contain entries of just one category. Using the `.mode()` function, we could for example extract the ratio of the most frequent entry for each feature and visualize that information."
   ]
  },
  {
   "cell_type": "code",
   "execution_count": null,
   "metadata": {},
   "outputs": [],
   "source": [
    "# Collects for each feature the most frequent entry\n",
    "most_frequent_entry = df_X.mode()\n",
    "\n",
    "# Checks for each entry if it contains the most frequent entry\n",
    "df_freq = df_X.eq(most_frequent_entry.values, axis=1)\n",
    "\n",
    "# Computes the mean of the 'is_most_frequent' occurrence\n",
    "df_freq = df_freq.mean().sort_values(ascending=False)\n",
    "\n",
    "# Show the 5 top features with the highest ratio of singular value content\n",
    "display(df_freq.head())\n",
    "\n",
    "# Visualize the 'df_freq' table\n",
    "df_freq.plot.bar(figsize=(15, 4));"
   ]
  },
  {
   "cell_type": "markdown",
   "metadata": {},
   "source": [
    "**Skewed value distributions**: Certain kind of numerical features can also show strongly non-gaussian distributions. In that case you might want to think about how you can transform these values to make them more normal distributed. For example, for right skewed data you could use a *log-transformation*."
   ]
  },
  {
   "cell_type": "markdown",
   "metadata": {},
   "source": [
    "<a id=\"t5.2.\"></a>\n",
    "### 5.2.   Feature patterns\n",
    "\n",
    "Next step on the list is the investigation of feature specific patterns. The goal of this part is two fold:\n",
    "\n",
    "1. Can we identify particular patterns within a feature that will help us to decide if some entries need to be dropped or modified?\n",
    "2. Can we identify particular relationships between features that will help us to better understand our dataset?\n",
    "\n",
    "But before we dive into these two questions, let's take a closer look at a few 'randomly selected' features."
   ]
  },
  {
   "cell_type": "code",
   "execution_count": null,
   "metadata": {},
   "outputs": [],
   "source": [
    "df_X[[\"Location_Northing_OSGR\", \"1st_Road_Number\",\n",
    "      \"Journey_Purpose_of_Driver\", \"Pedestrian_Crossing-Physical_Facilities\"]].plot(\n",
    "    lw=0, marker=\".\", subplots=True, layout=(-1, 2), markersize=0.1, figsize=(15, 6));"
   ]
  },
  {
   "cell_type": "markdown",
   "metadata": {},
   "source": [
    "In the top row, we can see features with continuous values (e.g. seemingly any number from the number line), while in the bottom row we have features with discrete values (e.g. 1, 2, 3 but not 2.34).\n",
    "\n",
    "While there are many ways we could explore our features for particular patterns, let's simplify our option by deciding that we treat features with less than 25 unique features as **discrete** or **ordinal** features, and the other features as **continuous** features."
   ]
  },
  {
   "cell_type": "code",
   "execution_count": null,
   "metadata": {},
   "outputs": [],
   "source": [
    "# Creates mask to identify numerical features with more or less than 25 unique features\n",
    "cols_continuous = df_X.select_dtypes(include=\"number\").nunique() >= 25"
   ]
  },
  {
   "cell_type": "markdown",
   "metadata": {},
   "source": [
    "<a id=\"t5.2.1.\"></a>\n",
    "### 5.2.1.   Continuous features\n",
    "\n",
    "Now that we have a way to select the continuous features, let's go ahead and use seaborn's `pairplot` to visualize the relationships between these features. **Important to note**, seaborn's pairplot routine can take a long time to create all subplots. Therefore we recommend to not use it for more than ~10 features at a time."
   ]
  },
  {
   "cell_type": "code",
   "execution_count": null,
   "metadata": {},
   "outputs": [],
   "source": [
    "# Create a new dataframe which only contains the continuous features\n",
    "df_continuous = df_X[cols_continuous[cols_continuous].index]\n",
    "df_continuous.shape"
   ]
  },
  {
   "cell_type": "markdown",
   "metadata": {},
   "source": [
    "Given that in our case we only have 11 features, we can go ahead with the pairplot. Otherwise, using something like `df_continuous.iloc[:, :5]` could help to reduce the number of features to plot."
   ]
  },
  {
   "cell_type": "code",
   "execution_count": null,
   "metadata": {},
   "outputs": [],
   "source": [
    "sns.pairplot(df_continuous, height=1.5, plot_kws={\"s\": 2, \"alpha\": 0.2});"
   ]
  },
  {
   "cell_type": "markdown",
   "metadata": {},
   "source": [
    "There seems to be a strange relationship between a few features in the top left corner. `Location_Easting_OSGR` and `Longitude`, as well as `Location_Easting_OSGR` and `Latitude` seem to have a very strong linear relationship."
   ]
  },
  {
   "cell_type": "code",
   "execution_count": null,
   "metadata": {},
   "outputs": [],
   "source": [
    "g = sns.pairplot(\n",
    "    df_X, plot_kws={'s': 3, 'alpha': 0.2}, hue='Police_Force', palette='Spectral',\n",
    "    x_vars=['Location_Easting_OSGR', 'Location_Northing_OSGR', 'Longitude'],\n",
    "    y_vars='Latitude');\n",
    "g.fig.set_size_inches(15,8)"
   ]
  },
  {
   "cell_type": "markdown",
   "metadata": {},
   "source": [
    "Knowing that these features contain geographic information, a more in-depth EDA with regards to geolocation could be fruitful. However, for now we will leave the further investigation of this pairplot to the curious reader and continue with the exploration of the discrete and ordinal features."
   ]
  },
  {
   "cell_type": "markdown",
   "metadata": {},
   "source": [
    "<a id=\"t5.2.2.\"></a>\n",
    "### 5.2.2.   Discrete and ordinal features\n",
    "\n",
    "Finding patterns in the discrete or ordinal features is a bit more tricky. But also here, some quick pandas and seaborn trickery can help us to get a general overview of our dataset. First, let's select the columns we want to investigate."
   ]
  },
  {
   "cell_type": "code",
   "execution_count": null,
   "metadata": {},
   "outputs": [],
   "source": [
    "# Create a new dataframe which doesn't contain the numerical continuous features\n",
    "df_discrete = df_X[cols_continuous[~cols_continuous].index]\n",
    "df_discrete.shape"
   ]
  },
  {
   "cell_type": "markdown",
   "metadata": {},
   "source": [
    "As always, there are multiple way for how we could investigate all of these features. Let's try one example, using seaborn's `stripplot()` together with a handy `zip()` for-loop for subplots.\n",
    "\n",
    "**Note**, to spread the values out in the direction of the y-axis we need to chose one particular (hopefully informative) feature. While the 'right' feature can help to identify some interesting patterns, usually any continuous feature should do the trick. The main interest in this kind of plot is to see how many samples each discrete value contains."
   ]
  },
  {
   "cell_type": "code",
   "execution_count": null,
   "metadata": {},
   "outputs": [],
   "source": [
    "# Establish number of columns and rows needed to plot all features\n",
    "n_cols = 5\n",
    "n_elements = len(df_discrete.columns)\n",
    "n_rows = np.ceil(n_elements / n_cols).astype(\"int\")\n",
    "\n",
    "# Specify y_value to spread data (ideally a continuous feature)\n",
    "y_value = df_X[\"Age_of_Driver\"]\n",
    "\n",
    "# Create figure object with as many rows and columns as needed\n",
    "fig, axes = plt.subplots(ncols=n_cols, nrows=n_rows, figsize=(15, n_rows * 2.5))\n",
    "\n",
    "# Loop through features and put each subplot on a matplotlib axis object\n",
    "for col, ax in zip(df_discrete.columns, axes.ravel()):\n",
    "    sns.stripplot(data=df_X, x=col, y=y_value, ax=ax, palette=\"tab10\", size=1, alpha=0.5)\n",
    "plt.tight_layout();"
   ]
  },
  {
   "cell_type": "markdown",
   "metadata": {},
   "source": [
    "There are too many things to comment here, so let's just focus on a few. In particular, let's focus on 6 features where the values appear in some particular pattern or where some categories seem to be much less frequent than others. And to shake things up a bit, let's now use the `Longitude` feature to stretch the values over the y-axis."
   ]
  },
  {
   "cell_type": "code",
   "execution_count": null,
   "metadata": {},
   "outputs": [],
   "source": [
    "# Specify features of interest\n",
    "selected_features = [\"Vehicle_Reference_df_res\", \"Towing_and_Articulation\",\n",
    "                     \"Skidding_and_Overturning\", \"Bus_or_Coach_Passenger\",\n",
    "                     \"Pedestrian_Road_Maintenance_Worker\", \"Age_Band_of_Driver\"]\n",
    "\n",
    "# Create a figure with 3 x 2 subplots\n",
    "fig, axes = plt.subplots(ncols=3, nrows=2, figsize=(16, 8))\n",
    "\n",
    "# Loop through these features and plot entries from each feature against `Latitude`\n",
    "for col, ax in zip(selected_features, axes.ravel()):\n",
    "    sns.stripplot(data=df_X, x=col, y=df_X[\"Latitude\"], ax=ax,\n",
    "                  palette=\"tab10\", size=2, alpha=0.5)\n",
    "plt.tight_layout();"
   ]
  },
  {
   "cell_type": "markdown",
   "metadata": {},
   "source": [
    "These kind of plots are already very informative, but they obscure regions where there are a lot of data points at once. For example, there seems to be a high density of points in some of the plots at the 52nd latitude. So let's take a closer look with an appropriate plot, such as `violineplot` ( or `boxenplot` or `boxplot` for that matter). And to go a step further, let's also separate each visualization by `Urban_or_Rural_Area`."
   ]
  },
  {
   "cell_type": "code",
   "execution_count": null,
   "metadata": {},
   "outputs": [],
   "source": [
    "# Create a figure with 3 x 2 subplots\n",
    "fig, axes = plt.subplots(ncols=3, nrows=2, figsize=(16, 8))\n",
    "\n",
    "# Loop through these features and plot entries from each feature against `Latitude`\n",
    "for col, ax in zip(selected_features, axes.ravel()):\n",
    "    sns.violinplot(data=df_X, x=col, y=df_X[\"Latitude\"], palette=\"Set2\",\n",
    "                   split=True, hue=\"Urban_or_Rural_Area\", ax=ax)\n",
    "plt.tight_layout();"
   ]
  },
  {
   "cell_type": "markdown",
   "metadata": {},
   "source": [
    "Interesting! We can see that some values on features are more frequent in urban, than in rural areas (and vice versa). Furthermore, as suspected, there seems to be a high density peak at latitude 51.5. This is very likely due to the more densely populated region around London (at 51.5074°)."
   ]
  },
  {
   "cell_type": "markdown",
   "metadata": {},
   "source": [
    "<a id=\"t5.3.\"></a>\n",
    "### 5.3.   Feature relationships\n",
    "\n",
    "Last, but not least, let's take a look at relationships between features. More precisely how they correlate. The quickest way to do so is via pandas' `.corr()` function. So let's go ahead and compute the feature to feature correlation matrix for all numerical features."
   ]
  },
  {
   "cell_type": "code",
   "execution_count": null,
   "metadata": {},
   "outputs": [],
   "source": [
    "# Computes feature correlation\n",
    "df_corr = df_X.corr(method=\"pearson\")"
   ]
  },
  {
   "cell_type": "markdown",
   "metadata": {},
   "source": [
    "**Note**: Depending on the dataset and the kind of features (e.g. ordinal or continuous features) you might want to use the `spearman` method instead of the `pearson` method to compute the correlation. Whereas the **Pearson** correlation evaluates the linear relationship between two continuous variables, the **Spearman** correlation evaluates the monotonic relationship based on the ranked values for each feature. And to help with the interpretation of this correlation matrix, let's use seaborn's `.heatmap()` to visualize it."
   ]
  },
  {
   "cell_type": "code",
   "execution_count": null,
   "metadata": {},
   "outputs": [],
   "source": [
    "# Create labels for the correlation matrix\n",
    "labels = np.where(np.abs(df_corr)>0.75, \"S\",\n",
    "                  np.where(np.abs(df_corr)>0.5, \"M\",\n",
    "                           np.where(np.abs(df_corr)>0.25, \"W\", \"\")))\n",
    "\n",
    "# Plot correlation matrix\n",
    "plt.figure(figsize=(15, 15))\n",
    "sns.heatmap(df_corr, mask=np.eye(len(df_corr)), square=True,\n",
    "            center=0, annot=labels, fmt='', linewidths=.5,\n",
    "            cmap=\"vlag\", cbar_kws={\"shrink\": 0.8});"
   ]
  },
  {
   "cell_type": "markdown",
   "metadata": {},
   "source": [
    "This looks already very interesting. We can see a few very strong correlations between some of the features. Now, if you're interested actually ordering all of these different correlations, you could do something like this:"
   ]
  },
  {
   "cell_type": "code",
   "execution_count": null,
   "metadata": {},
   "outputs": [],
   "source": [
    "#  Creates a mask to remove the diagonal and the upper triangle.\n",
    "lower_triangle_mask = np.tril(np.ones(df_corr.shape), k=-1).astype(\"bool\")\n",
    "\n",
    "#  Stack all correlations, after applying the mask\n",
    "df_corr_stacked = df_corr.where(lower_triangle_mask).stack().sort_values()\n",
    "\n",
    "#  Showing the lowest and highest correlations in the correlation matrix\n",
    "display(df_corr_stacked)"
   ]
  },
  {
   "cell_type": "markdown",
   "metadata": {},
   "source": [
    "As you can see, the investigation of feature correlations can be very informative. But looking at everything at once can sometimes be more confusing than helpful. So focusing only on one feature with something like `df_X.corrwith(df_X[\"Speed_limit\"])` might be a better approach.\n",
    "\n",
    "Furthermore, correlations can be deceptive if a feature still contains a lot of missing values or extreme outliers. Therefore, it is always important to first make sure that your feature matrix is properly prepared before investigating these correlations."
   ]
  },
  {
   "cell_type": "markdown",
   "metadata": {},
   "source": [
    "<a id=\"t5.4.\"></a>\n",
    "### 5.4.   Conclusion of content investigation\n",
    "\n",
    "At the end of this third investigation, we should have a better understanding of the content in our dataset. We looked at value distribution, feature patterns and feature correlations. However, these are certainly not all possible content investigation and data cleaning steps you could do. Additional steps would for example be outlier detection and removal, feature engineering and transformation, and more."
   ]
  },
  {
   "cell_type": "markdown",
   "metadata": {},
   "source": [
    "<a id=\"t6.\"></a>\n",
    "# 6.   Take home message\n",
    "\n",
    "A proper and detailed EDA takes time! It is a very iterative process that often makes you go back to the start, after you addressed another flaw in the dataset. This is normal! It's the reason why we often say that 80% of any data science project is data preparation and EDA.\n",
    "\n",
    "But keep also in mind that an in-depth EDA can consume a lot of time. And just because something seems interesting doesn't mean that you need to follow up on it. Always remind yourself what the dataset will be used for and tailor your investigations to support that goal. And sometimes it is also ok, to just do a quick-and-dirty data preparation and exploration. So that you can move on to the data modeling part rather quickly, and to establish a few preliminary baseline models perform some informative results investigation."
   ]
  },
  {
   "cell_type": "markdown",
   "metadata": {},
   "source": [
    "# 7. Outliers"
   ]
  },
  {
   "cell_type": "markdown",
   "metadata": {},
   "source": [
    "Box plot use the IQR method to display data and outliers(shape of the data) but in order to be get a list of identified outlier, we will need to use the mathematical formula and retrieve the outlier data.\n",
    "\n",
    "Wikipedia Definition\n",
    "\n",
    "The interquartile range (IQR), also called the midspread or middle 50%, or technically H-spread, is a measure of statistical dispersion, being equal to the difference between 75th and 25th percentiles, or between upper and lower quartiles, IQR = Q3 − Q1.\n",
    "\n",
    "In other words, the IQR is the first quartile subtracted from the third quartile; these quartiles can be clearly seen on a box plot on the data.\n",
    "\n",
    "It is a measure of the dispersion similar to standard deviation or variance, but is much more robust against outliers.\n",
    "\n",
    "IQR is somewhat similar to Z-score in terms of finding the distribution of data and then keeping some threshold to identify the outlier.\n",
    "\n",
    "Let’s find out we can box plot uses IQR and how we can use it to find the list of outliers. First we will calculate IQR,"
   ]
  },
  {
   "cell_type": "code",
   "execution_count": null,
   "metadata": {},
   "outputs": [],
   "source": [
    "Q1 = df_X.quantile(0.25)\n",
    "Q3 = df_X.quantile(0.75)\n",
    "IQR = Q3 - Q1\n",
    "print(IQR)"
   ]
  },
  {
   "cell_type": "code",
   "execution_count": null,
   "metadata": {},
   "outputs": [],
   "source": [
    "# print(df_X < (Q1 - 1.5 * IQR)) |(df_X > (Q3 + 1.5 * IQR))"
   ]
  },
  {
   "cell_type": "markdown",
   "metadata": {},
   "source": [
    "filter out the outliers by keeping only valid values."
   ]
  },
  {
   "cell_type": "code",
   "execution_count": null,
   "metadata": {},
   "outputs": [],
   "source": [
    "df_X_out = df_X[~((df_X < (Q1 - 1.5 * IQR)) |(df_X > (Q3 + 1.5 * IQR))).any(axis=1)]\n",
    "df_X_out.shape"
   ]
  },
  {
   "cell_type": "code",
   "execution_count": null,
   "metadata": {},
   "outputs": [],
   "source": []
  }
 ],
 "metadata": {
  "interpreter": {
   "hash": "c1e9da2abdb90b884f8654ce86b0032d948d59cb08391585e54e02164ed3134f"
  },
  "kernelspec": {
   "display_name": "Python 3",
   "language": "python",
   "name": "python3"
  },
  "language_info": {
   "codemirror_mode": {
    "name": "ipython",
    "version": 3
   },
   "file_extension": ".py",
   "mimetype": "text/x-python",
   "name": "python",
   "nbconvert_exporter": "python",
   "pygments_lexer": "ipython3",
   "version": "3.8.6"
  }
 },
 "nbformat": 4,
 "nbformat_minor": 4
}
