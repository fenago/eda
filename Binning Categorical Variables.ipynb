{
 "cells": [
  {
   "cell_type": "code",
   "execution_count": null,
   "id": "a44812d6",
   "metadata": {},
   "outputs": [],
   "source": [
    "import pandas as pd\n",
    "import numpy as np\n",
    "import seaborn as sns"
   ]
  },
  {
   "cell_type": "code",
   "execution_count": null,
   "id": "135e9a81",
   "metadata": {},
   "outputs": [],
   "source": [
    "df = pd.read_csv(\"dataset/uc_gen.txt\", sep=\",\", \n",
    "                 usecols=['party_cd', 'voting_method', 'birth_state'])"
   ]
  },
  {
   "cell_type": "code",
   "execution_count": null,
   "id": "56b7c4c9",
   "metadata": {},
   "outputs": [],
   "source": [
    "df.shape"
   ]
  },
  {
   "cell_type": "code",
   "execution_count": null,
   "id": "6bac85cd",
   "metadata": {},
   "outputs": [],
   "source": [
    "df.head()"
   ]
  },
  {
   "cell_type": "code",
   "execution_count": null,
   "id": "7e6af1de",
   "metadata": {},
   "outputs": [],
   "source": [
    "df['party_cd'].unique()"
   ]
  },
  {
   "cell_type": "code",
   "execution_count": null,
   "id": "35d8cb8b",
   "metadata": {},
   "outputs": [],
   "source": [
    "df['party_cd'].nunique()"
   ]
  },
  {
   "cell_type": "code",
   "execution_count": null,
   "id": "6773eeb5",
   "metadata": {},
   "outputs": [],
   "source": [
    "df['party_cd'].value_counts()"
   ]
  },
  {
   "cell_type": "code",
   "execution_count": null,
   "id": "1e80c7c9",
   "metadata": {},
   "outputs": [],
   "source": [
    "sns.countplot(df['party_cd'])"
   ]
  },
  {
   "cell_type": "code",
   "execution_count": null,
   "id": "590a4870",
   "metadata": {},
   "outputs": [],
   "source": [
    "df['party_bin'] = df['party_cd']"
   ]
  },
  {
   "cell_type": "code",
   "execution_count": null,
   "id": "2f02e67a",
   "metadata": {},
   "outputs": [],
   "source": [
    "Other_voters = ['LIB', 'CST', 'GRE']"
   ]
  },
  {
   "cell_type": "code",
   "execution_count": null,
   "id": "cd4798a9",
   "metadata": {},
   "outputs": [],
   "source": [
    "df.loc[df['party_cd'].isin(Other_voters), 'party_bin'] = \"Others\""
   ]
  },
  {
   "cell_type": "code",
   "execution_count": null,
   "id": "1a39e24c",
   "metadata": {},
   "outputs": [],
   "source": [
    "df['party_bin'].unique()"
   ]
  },
  {
   "cell_type": "code",
   "execution_count": null,
   "id": "217cfe41",
   "metadata": {},
   "outputs": [],
   "source": [
    "df['party_bin'].nunique()"
   ]
  }
 ],
 "metadata": {
  "kernelspec": {
   "display_name": "Python 3",
   "language": "python",
   "name": "python3"
  },
  "language_info": {
   "codemirror_mode": {
    "name": "ipython",
    "version": 3
   },
   "file_extension": ".py",
   "mimetype": "text/x-python",
   "name": "python",
   "nbconvert_exporter": "python",
   "pygments_lexer": "ipython3",
   "version": "3.8.8"
  }
 },
 "nbformat": 4,
 "nbformat_minor": 5
}
